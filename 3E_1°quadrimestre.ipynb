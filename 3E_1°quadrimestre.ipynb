{
  "nbformat": 4,
  "nbformat_minor": 0,
  "metadata": {
    "colab": {
      "provenance": [],
      "collapsed_sections": [
        "VlfU3EKDvuB5",
        "lS9h1SbYyJ3J",
        "-wlEbOmI2MmB"
      ],
      "include_colab_link": true
    },
    "kernelspec": {
      "name": "python3",
      "display_name": "Python 3"
    },
    "language_info": {
      "name": "python"
    }
  },
  "cells": [
    {
      "cell_type": "markdown",
      "metadata": {
        "id": "view-in-github",
        "colab_type": "text"
      },
      "source": [
        "<a href=\"https://colab.research.google.com/github/SimoneFinessi/Python/blob/programma_quadrimestre/3E_1%C2%B0quadrimestre.ipynb\" target=\"_parent\"><img src=\"https://colab.research.google.com/assets/colab-badge.svg\" alt=\"Open In Colab\"/></a>"
      ]
    },
    {
      "cell_type": "markdown",
      "source": [
        "#Python base"
      ],
      "metadata": {
        "id": "VlfU3EKDvuB5"
      }
    },
    {
      "cell_type": "markdown",
      "source": [
        "inserimento dati, visualizzazione dati"
      ],
      "metadata": {
        "id": "SPNrHWvYwAiW"
      }
    },
    {
      "cell_type": "code",
      "source": [
        "nome=input(\"inserisci nome\")\n",
        "print(nome)"
      ],
      "metadata": {
        "colab": {
          "base_uri": "https://localhost:8080/"
        },
        "id": "iKF0sm70_xKE",
        "outputId": "e026968e-2723-47eb-e2a4-afcec9642f9d"
      },
      "execution_count": null,
      "outputs": [
        {
          "output_type": "stream",
          "name": "stdout",
          "text": [
            "inserisci nomeciao\n",
            "ciao\n"
          ]
        }
      ]
    },
    {
      "cell_type": "markdown",
      "source": [
        "tipi di dati (interi, float, stringhe, booleani, ...) "
      ],
      "metadata": {
        "id": "OwP9zJrwwdfV"
      }
    },
    {
      "cell_type": "code",
      "source": [
        "x=1\n",
        "y=float(1)\n",
        "z=\"ciao\"\n",
        "a=True\n",
        "print(x,y,z,a)"
      ],
      "metadata": {
        "colab": {
          "base_uri": "https://localhost:8080/"
        },
        "id": "97xg4MS8_9T-",
        "outputId": "2ea34d4a-aba7-4d5b-ac2c-77408d16da79"
      },
      "execution_count": null,
      "outputs": [
        {
          "output_type": "stream",
          "name": "stdout",
          "text": [
            "1 1.0 ciao True\n"
          ]
        }
      ]
    },
    {
      "cell_type": "markdown",
      "source": [
        "operazioni matematiche fondamentali (somma, sottrazione, moltiplicazione, divisione tra interi e tra reali, resto, elevamento a potenza, ...)"
      ],
      "metadata": {
        "id": "mITw5b-7vwsP"
      }
    },
    {
      "cell_type": "code",
      "source": [
        "c=2\n",
        "v=3\n",
        "print(c+v)\n",
        "print(c-v)\n",
        "print(pow(c,v))#c elevato alla v=2 alla 3za\n",
        "print(c*v)#2 per 3\n",
        "print(v//c)#divisione intera\n",
        "print(v%c)#trova il resto"
      ],
      "metadata": {
        "colab": {
          "base_uri": "https://localhost:8080/"
        },
        "id": "FXRuSDB_AL7e",
        "outputId": "ac661aa6-5275-44af-f687-3f755a50a342"
      },
      "execution_count": null,
      "outputs": [
        {
          "output_type": "stream",
          "name": "stdout",
          "text": [
            "5\n",
            "-1\n",
            "8\n",
            "6\n",
            "1\n",
            "1\n"
          ]
        }
      ]
    },
    {
      "cell_type": "markdown",
      "source": [
        "selezione (if, if else, elif)"
      ],
      "metadata": {
        "id": "eKQ9odxpvzEf"
      }
    },
    {
      "cell_type": "code",
      "source": [
        "ciao=1\n",
        "if ciao==1:\n",
        "  print(ciao)\n",
        "else:\n",
        " print(\"no\")\n",
        "\n",
        "if ciao==0:\n",
        "  print(\"no\")\n",
        "elif ciao==1:\n",
        "  print(ciao)\n",
        "elif ciao==2:\n",
        "  print(\"2\")"
      ],
      "metadata": {
        "colab": {
          "base_uri": "https://localhost:8080/"
        },
        "id": "rNnDj21RN4_Z",
        "outputId": "28dc748d-de05-40a6-c7ed-f4ba20c6ba89"
      },
      "execution_count": null,
      "outputs": [
        {
          "output_type": "stream",
          "name": "stdout",
          "text": [
            "1\n",
            "1\n"
          ]
        }
      ]
    },
    {
      "cell_type": "markdown",
      "source": [
        "operatori per il confronto tra variabili (uguale, diverso, maggiore, minore, minore uguale, ...)"
      ],
      "metadata": {
        "id": "Zl4IU_bOxFB1"
      }
    },
    {
      "cell_type": "code",
      "source": [
        "x=1\n",
        "y=2\n",
        "if x>y:\n",
        "  print(\"si\")\n",
        "if x<y:\n",
        "  print(\"si\")\n",
        "if x==y:\n",
        "  print(\"si\")\n",
        "if x!=y:\n",
        "  print(\"si\")\n",
        "if x>=y:\n",
        "  print(\"si\")\n",
        "if x<=y:\n",
        "  print(\"si\")"
      ],
      "metadata": {
        "colab": {
          "base_uri": "https://localhost:8080/"
        },
        "id": "KcEn4-f8Ofox",
        "outputId": "72c05aee-0752-4391-a97e-808bc02bc275"
      },
      "execution_count": null,
      "outputs": [
        {
          "output_type": "stream",
          "name": "stdout",
          "text": [
            "si\n",
            "si\n",
            "si\n"
          ]
        }
      ]
    },
    {
      "cell_type": "markdown",
      "source": [
        "operatori logici (and, or, not)"
      ],
      "metadata": {
        "id": "Q7_OSh5WxxJK"
      }
    },
    {
      "cell_type": "code",
      "source": [
        "if x==1 and x<y:\n",
        "  print(\"ciao\")"
      ],
      "metadata": {
        "colab": {
          "base_uri": "https://localhost:8080/"
        },
        "id": "qDRUg815PAPA",
        "outputId": "a1e571ab-cb54-41d9-8eb9-6d1662662c29"
      },
      "execution_count": null,
      "outputs": [
        {
          "output_type": "stream",
          "name": "stdout",
          "text": [
            "ciao\n"
          ]
        }
      ]
    },
    {
      "cell_type": "code",
      "source": [
        "if x==y or x<y:#or == o una o l'altra, se entrambe sono vere la condizione e vera\n",
        "  print(\"ciao\")"
      ],
      "metadata": {
        "colab": {
          "base_uri": "https://localhost:8080/"
        },
        "id": "mLj2nXxXPNVa",
        "outputId": "89980b52-e391-4434-f413-627730562062"
      },
      "execution_count": null,
      "outputs": [
        {
          "output_type": "stream",
          "name": "stdout",
          "text": [
            "ciao\n"
          ]
        }
      ]
    },
    {
      "cell_type": "markdown",
      "source": [
        "operatori di appartenenza (in, not in)"
      ],
      "metadata": {
        "id": "w2f1OWg6x24S"
      }
    },
    {
      "cell_type": "code",
      "source": [
        "stringa=\"ciao sono simone\"\n",
        "if \"ciao\"in stringa:\n",
        "  print(\"esiste\")"
      ],
      "metadata": {
        "colab": {
          "base_uri": "https://localhost:8080/"
        },
        "id": "_Pe3iqLAPl_d",
        "outputId": "61bc78ba-990e-4d0c-b557-1f338684ed67"
      },
      "execution_count": null,
      "outputs": [
        {
          "output_type": "stream",
          "name": "stdout",
          "text": [
            "esiste\n"
          ]
        }
      ]
    },
    {
      "cell_type": "code",
      "source": [
        "stringa=\"ciao sono simone\"\n",
        "if \"ciao\"not in stringa:\n",
        "  print(\"esiste\")\n",
        "else:\n",
        "  print(\"ciao\")"
      ],
      "metadata": {
        "colab": {
          "base_uri": "https://localhost:8080/"
        },
        "id": "stG_tiiXPwS9",
        "outputId": "67f277c1-8cd8-4e15-a88c-2a59584b5a78"
      },
      "execution_count": null,
      "outputs": [
        {
          "output_type": "stream",
          "name": "stdout",
          "text": [
            "ciao\n"
          ]
        }
      ]
    },
    {
      "cell_type": "markdown",
      "source": [
        "cicli (while, for)"
      ],
      "metadata": {
        "id": "k5onQQXHx__a"
      }
    },
    {
      "cell_type": "code",
      "source": [
        "x=0\n",
        "while x<10:\n",
        "  x+=1\n",
        "  print(x)"
      ],
      "metadata": {
        "id": "PyOABVe1QGtv"
      },
      "execution_count": null,
      "outputs": []
    },
    {
      "cell_type": "code",
      "source": [
        "for i in range(10):\n",
        "  print(\"!\")"
      ],
      "metadata": {
        "id": "RW3-t0u0QQE8"
      },
      "execution_count": null,
      "outputs": []
    },
    {
      "cell_type": "markdown",
      "source": [
        "generazione di numeri casuali (interi, float), range()"
      ],
      "metadata": {
        "id": "Ns1JjBYbzMJO"
      }
    },
    {
      "cell_type": "code",
      "source": [
        "import random\n",
        "x=random.randint(1,10)\n",
        "print(x)"
      ],
      "metadata": {
        "colab": {
          "base_uri": "https://localhost:8080/"
        },
        "id": "Y8RmZPPFQYFB",
        "outputId": "249996ba-8252-4826-80bc-cd9fea649577"
      },
      "execution_count": null,
      "outputs": [
        {
          "output_type": "stream",
          "name": "stdout",
          "text": [
            "7\n"
          ]
        }
      ]
    },
    {
      "cell_type": "code",
      "source": [
        "import random\n",
        "x=random.uniform(1,10)\n",
        "print(x)"
      ],
      "metadata": {
        "colab": {
          "base_uri": "https://localhost:8080/"
        },
        "id": "CiSL3-32Qf8A",
        "outputId": "e2048612-4ef2-479d-dd95-81ec224c837a"
      },
      "execution_count": null,
      "outputs": [
        {
          "output_type": "stream",
          "name": "stdout",
          "text": [
            "4.49698236270168\n"
          ]
        }
      ]
    },
    {
      "cell_type": "markdown",
      "source": [
        "determinazione tempo di esecuzione di un programma"
      ],
      "metadata": {
        "id": "fHcv7nA-3Hj_"
      }
    },
    {
      "cell_type": "code",
      "source": [
        "import time\n",
        "start=time.time()\n",
        "x=1\n",
        "while x<10:\n",
        "  x+=1\n",
        "print(time.time()-start)"
      ],
      "metadata": {
        "colab": {
          "base_uri": "https://localhost:8080/"
        },
        "id": "4Cd7dwkMQ1F_",
        "outputId": "50527703-b35d-4051-fddc-88a209908cb2"
      },
      "execution_count": null,
      "outputs": [
        {
          "output_type": "stream",
          "name": "stdout",
          "text": [
            "0.00013208389282226562\n"
          ]
        }
      ]
    },
    {
      "cell_type": "markdown",
      "source": [
        "#Strutture dati"
      ],
      "metadata": {
        "id": "lS9h1SbYyJ3J"
      }
    },
    {
      "cell_type": "markdown",
      "source": [
        "liste (creazione anche con list comprehension, inserimento, modifica, cancellazione, visualizzazione, ricerca, metodi specifici)"
      ],
      "metadata": {
        "id": "eHzg5yNHyRRZ"
      }
    },
    {
      "cell_type": "code",
      "source": [
        "lista=[x for x in range(10)]\n",
        "lista"
      ],
      "metadata": {
        "colab": {
          "base_uri": "https://localhost:8080/"
        },
        "id": "bqb-8MUQR5HM",
        "outputId": "3dfd5f63-9466-49ce-bffc-02748211b72d"
      },
      "execution_count": null,
      "outputs": [
        {
          "output_type": "execute_result",
          "data": {
            "text/plain": [
              "[0, 1, 2, 3, 4, 5, 6, 7, 8, 9]"
            ]
          },
          "metadata": {},
          "execution_count": 1
        }
      ]
    },
    {
      "cell_type": "code",
      "source": [
        "lista.append(1)#aggiunge un elemento alla fine della lista\n",
        "lista"
      ],
      "metadata": {
        "colab": {
          "base_uri": "https://localhost:8080/"
        },
        "id": "oHrPDoirS4tu",
        "outputId": "cfa0e45f-847d-4cbc-892a-58824dad3c5b"
      },
      "execution_count": null,
      "outputs": [
        {
          "output_type": "execute_result",
          "data": {
            "text/plain": [
              "[0, 2, 3, 4, 5, 6, 7, 8, 9, 1, 1, 1, 1, 1, 1]"
            ]
          },
          "metadata": {},
          "execution_count": 62
        }
      ]
    },
    {
      "cell_type": "code",
      "source": [
        "lista.insert(1,10)\n",
        "lista#aggiunge il 10 nella posizione 1 "
      ],
      "metadata": {
        "colab": {
          "base_uri": "https://localhost:8080/"
        },
        "id": "v29N4g3hTTz6",
        "outputId": "10737df6-a3cf-4255-afe4-872d37e05a61"
      },
      "execution_count": null,
      "outputs": [
        {
          "output_type": "execute_result",
          "data": {
            "text/plain": [
              "[0, 10, 10, 10, 10, 4, 5, 6, 7, 8, 9]"
            ]
          },
          "metadata": {},
          "execution_count": 76
        }
      ]
    },
    {
      "cell_type": "code",
      "source": [
        "lista.extend([10,11,12,13])\n",
        "lista#aggiunge una lista di elementi ad una lista"
      ],
      "metadata": {
        "colab": {
          "base_uri": "https://localhost:8080/"
        },
        "id": "BfDmG2cJiiUF",
        "outputId": "d0d9d14e-e18e-46dc-c9f7-97e17c002acb"
      },
      "execution_count": null,
      "outputs": [
        {
          "output_type": "execute_result",
          "data": {
            "text/plain": [
              "[0, 1, 2, 3, 4, 5, 6, 7, 8, 9, 10, 11, 12, 13, 10, 11, 12, 13]"
            ]
          },
          "metadata": {},
          "execution_count": 4
        }
      ]
    },
    {
      "cell_type": "code",
      "source": [
        "lista.remove(1)#rimuove l'elemento selezionato\n",
        "lista"
      ],
      "metadata": {
        "colab": {
          "base_uri": "https://localhost:8080/"
        },
        "id": "j_J--56uS9Wf",
        "outputId": "e568408e-8d7d-40bc-fc21-c664df129114"
      },
      "execution_count": null,
      "outputs": [
        {
          "output_type": "execute_result",
          "data": {
            "text/plain": [
              "[0, 2, 3, 4, 5, 6, 7, 8, 9]"
            ]
          },
          "metadata": {},
          "execution_count": 68
        }
      ]
    },
    {
      "cell_type": "code",
      "source": [
        "lista.pop(1)#rimuove l'elemento nella posizione selezionata\n",
        "lista"
      ],
      "metadata": {
        "colab": {
          "base_uri": "https://localhost:8080/"
        },
        "id": "WSTLAX5PTIbJ",
        "outputId": "e6acfee2-fe44-4fad-a803-3de6abac2c65"
      },
      "execution_count": null,
      "outputs": [
        {
          "output_type": "execute_result",
          "data": {
            "text/plain": [
              "[0, 4, 5, 6, 7, 8, 9]"
            ]
          },
          "metadata": {},
          "execution_count": 70
        }
      ]
    },
    {
      "cell_type": "code",
      "source": [
        "lista[1]#visualizza l'elemento nella posizione 1\n",
        "lista[1:10]#visualizza l'elemento dalla posizione 1 alla 10"
      ],
      "metadata": {
        "colab": {
          "base_uri": "https://localhost:8080/"
        },
        "id": "dKsx2xNWThb8",
        "outputId": "1204b8e0-79c9-44a8-e7f7-3e1a8d871e63"
      },
      "execution_count": null,
      "outputs": [
        {
          "output_type": "execute_result",
          "data": {
            "text/plain": [
              "[10, 10, 10, 10, 4, 5, 6, 7, 8]"
            ]
          },
          "metadata": {},
          "execution_count": 79
        }
      ]
    },
    {
      "cell_type": "code",
      "source": [
        "max(lista)#trova il massimo, ce pure il minimo min()"
      ],
      "metadata": {
        "colab": {
          "base_uri": "https://localhost:8080/"
        },
        "id": "2iWyVRInTyGI",
        "outputId": "3e9705cd-e44a-4dc4-cdab-b7af5f93bffc"
      },
      "execution_count": null,
      "outputs": [
        {
          "output_type": "execute_result",
          "data": {
            "text/plain": [
              "10"
            ]
          },
          "metadata": {},
          "execution_count": 82
        }
      ]
    },
    {
      "cell_type": "code",
      "source": [
        "len(lista)#trova la lunghezza della lista"
      ],
      "metadata": {
        "id": "FYOKRrEziaeg"
      },
      "execution_count": null,
      "outputs": []
    },
    {
      "cell_type": "code",
      "source": [
        "from statistics import mean #importa mean=media"
      ],
      "metadata": {
        "id": "RMGCHykMUCEc"
      },
      "execution_count": null,
      "outputs": []
    },
    {
      "cell_type": "code",
      "source": [
        "mean(lista)#calcola la media di tutta la lista"
      ],
      "metadata": {
        "colab": {
          "base_uri": "https://localhost:8080/"
        },
        "id": "tLKLf1W0UNEr",
        "outputId": "b8cce666-77ae-4f44-957a-5b520a183050"
      },
      "execution_count": null,
      "outputs": [
        {
          "output_type": "execute_result",
          "data": {
            "text/plain": [
              "7.181818181818182"
            ]
          },
          "metadata": {},
          "execution_count": 85
        }
      ]
    },
    {
      "cell_type": "code",
      "source": [
        "lista.sort()\n",
        "lista#sort mette in ordine la lista in ordine crescente"
      ],
      "metadata": {
        "colab": {
          "base_uri": "https://localhost:8080/"
        },
        "id": "uH9H_Q_3Utvc",
        "outputId": "c2d992fa-3662-46dc-ec18-3da8b337f9ad"
      },
      "execution_count": null,
      "outputs": [
        {
          "output_type": "execute_result",
          "data": {
            "text/plain": [
              "[0, 4, 5, 6, 7, 8, 9, 10, 10, 10, 10]"
            ]
          },
          "metadata": {},
          "execution_count": 87
        }
      ]
    },
    {
      "cell_type": "code",
      "source": [
        "lista.sort(reverse=True)\n",
        "lista#sort mette in ordine la lista in ordine decrescente"
      ],
      "metadata": {
        "colab": {
          "base_uri": "https://localhost:8080/"
        },
        "id": "5SZhKHBBU0OW",
        "outputId": "c8a64355-3d98-4e13-e36f-bf468d26b8ec"
      },
      "execution_count": null,
      "outputs": [
        {
          "output_type": "execute_result",
          "data": {
            "text/plain": [
              "[10, 10, 10, 10, 9, 8, 7, 6, 5, 4, 0]"
            ]
          },
          "metadata": {},
          "execution_count": 88
        }
      ]
    },
    {
      "cell_type": "code",
      "source": [
        "lista=list(dict.fromkeys(lista))#rimuoe gli alementi duplicati da una lista\n",
        "lista"
      ],
      "metadata": {
        "colab": {
          "base_uri": "https://localhost:8080/"
        },
        "id": "WFsaCY0pjBLQ",
        "outputId": "4415f83b-b4dc-4eac-b455-65d132f7e145"
      },
      "execution_count": null,
      "outputs": [
        {
          "output_type": "execute_result",
          "data": {
            "text/plain": [
              "[0, 1, 2, 3, 4, 5, 6, 7, 8, 9, 10, 11, 12, 13]"
            ]
          },
          "metadata": {},
          "execution_count": 5
        }
      ]
    },
    {
      "cell_type": "markdown",
      "source": [
        "tuple (creazione anche con list comprehension, inserimento, modifica, cancellazione, visualizzazione, ricerca, metodi specifici)"
      ],
      "metadata": {
        "id": "eoUpQiJnxVJV"
      }
    },
    {
      "cell_type": "code",
      "source": [
        "tupla1=(1,2,3,4,5)\n",
        "tupla1"
      ],
      "metadata": {
        "id": "Ht5turC3jJpi"
      },
      "execution_count": null,
      "outputs": []
    },
    {
      "cell_type": "code",
      "source": [
        "tupla1=tuple([x for x in range(10)])#viene fatta una list comprension e poi trasformata in tupla solo alla fine\n",
        "tupla1"
      ],
      "metadata": {
        "colab": {
          "base_uri": "https://localhost:8080/"
        },
        "id": "uPOsVffrjgGe",
        "outputId": "64ca2cc4-755b-48c2-dc0a-6fd4171671f1"
      },
      "execution_count": null,
      "outputs": [
        {
          "output_type": "execute_result",
          "data": {
            "text/plain": [
              "(0, 1, 2, 3, 4, 5, 6, 7, 8, 9)"
            ]
          },
          "metadata": {},
          "execution_count": 15
        }
      ]
    },
    {
      "cell_type": "code",
      "source": [
        "tupla1=list(tupla1)#viene trasformato prima in una lista cosi si rende modificabile \n",
        "print(tupla1)\n",
        "tupla1.append(1)#viene aggiunto un elemento e poi riconvertito in tupla\n",
        "tupla1=tuple(tupla1)"
      ],
      "metadata": {
        "colab": {
          "base_uri": "https://localhost:8080/"
        },
        "id": "6MHQwUq7j_Tb",
        "outputId": "a81d425a-a2f5-40ec-8e89-6c4b355533e8"
      },
      "execution_count": null,
      "outputs": [
        {
          "output_type": "stream",
          "name": "stdout",
          "text": [
            "[0, 1, 2, 3, 4, 5, 6, 7, 8, 9, 1]\n"
          ]
        }
      ]
    },
    {
      "cell_type": "code",
      "source": [
        "tupla3=(\"ciao\", 1, True,2,\"hello\")\n",
        "print(tupla3)#puo contenere tutti i tipi di dati"
      ],
      "metadata": {
        "colab": {
          "base_uri": "https://localhost:8080/"
        },
        "id": "bSAGD3KrlHQl",
        "outputId": "b72fe33f-c7d1-4122-81d7-324fa22e35cc"
      },
      "execution_count": null,
      "outputs": [
        {
          "output_type": "stream",
          "name": "stdout",
          "text": [
            "('ciao', 1, True, 2, 'hello')\n"
          ]
        }
      ]
    },
    {
      "cell_type": "code",
      "source": [
        "tupla2=(\"prova\",)#per creare una tupla con solo 1 elemento va messa una virgola alla fine"
      ],
      "metadata": {
        "id": "wOLejORFlTwd"
      },
      "execution_count": null,
      "outputs": []
    },
    {
      "cell_type": "markdown",
      "source": [
        "set (creazione anche con list comprehension, inserimento, modifica, cancellazione, visualizzazione, ricerca, metodi specifici)"
      ],
      "metadata": {
        "id": "5enXw7_vznk-"
      }
    },
    {
      "cell_type": "code",
      "source": [
        "insieme = {\"inter\", \"milan\", \"juventus\"}\n",
        "print(insieme)#non sono indicizzati quindi non si possono richiamare con degli indici"
      ],
      "metadata": {
        "colab": {
          "base_uri": "https://localhost:8080/"
        },
        "id": "MjV-zPYVldgr",
        "outputId": "9f5723d1-8ca8-4e0e-be7b-d8d625214179"
      },
      "execution_count": null,
      "outputs": [
        {
          "output_type": "stream",
          "name": "stdout",
          "text": [
            "{'milan', 'inter', 'juventus'}\n"
          ]
        }
      ]
    },
    {
      "cell_type": "code",
      "source": [
        "insieme3 = {1, 2, 56, 1} #non puo avere duplicati\n",
        "print(insieme3)"
      ],
      "metadata": {
        "id": "Dz7hawoVl3o2"
      },
      "execution_count": null,
      "outputs": []
    },
    {
      "cell_type": "code",
      "source": [
        "\"inter\" in insieme#controlla se e presente l'elemento \"inter\"nell'insieme"
      ],
      "metadata": {
        "colab": {
          "base_uri": "https://localhost:8080/"
        },
        "id": "6SXIaBBgl_5x",
        "outputId": "798a0297-5c13-444e-b566-c15e0cde5a46"
      },
      "execution_count": null,
      "outputs": [
        {
          "output_type": "execute_result",
          "data": {
            "text/plain": [
              "True"
            ]
          },
          "metadata": {},
          "execution_count": 23
        }
      ]
    },
    {
      "cell_type": "code",
      "source": [
        "insieme.add(\"francesco\")#si usa add per aggiungere un elemento"
      ],
      "metadata": {
        "id": "cApwVlNJmUbt"
      },
      "execution_count": null,
      "outputs": []
    },
    {
      "cell_type": "code",
      "source": [
        "insieme4 = {\"poli\", \"loto\", \"simo\",7}\n",
        "insieme3.update(insieme4)#con update si aggiungono gli elementi dell'insiseme4 all'inisieme3"
      ],
      "metadata": {
        "id": "gSH0gclambIr"
      },
      "execution_count": null,
      "outputs": []
    },
    {
      "cell_type": "code",
      "source": [
        "insieme3.discard(\"poli\")#si rimuove l'elemento poli dall'insieme 3"
      ],
      "metadata": {
        "id": "unJEmj9Vmooz"
      },
      "execution_count": null,
      "outputs": []
    },
    {
      "cell_type": "code",
      "source": [
        "insieme5={1,2,3,4,5,6,7,8,9}\n",
        "insieme5.clear()#pulisce un insieme\n",
        "insieme5"
      ],
      "metadata": {
        "colab": {
          "base_uri": "https://localhost:8080/"
        },
        "id": "sImTD1VRm5Px",
        "outputId": "bb9597a3-6c59-4003-fc4c-5f2b2db3a51c"
      },
      "execution_count": null,
      "outputs": [
        {
          "output_type": "execute_result",
          "data": {
            "text/plain": [
              "set()"
            ]
          },
          "metadata": {},
          "execution_count": 25
        }
      ]
    },
    {
      "cell_type": "code",
      "source": [
        "set2={4,5,6}\n",
        "insieme5={1,2,3,4,5,6,7,8,9}\n",
        "set1 =insieme5.intersection(set2)#inserisce in un altro insieme gli elementi in comune tra l'insieme5 e set2\n",
        "print(set1)"
      ],
      "metadata": {
        "id": "y7_ucd1AnWDf",
        "colab": {
          "base_uri": "https://localhost:8080/"
        },
        "outputId": "c9ca186e-0a05-4055-940f-485967709425"
      },
      "execution_count": null,
      "outputs": [
        {
          "output_type": "stream",
          "name": "stdout",
          "text": [
            "{4, 5, 6}\n"
          ]
        }
      ]
    },
    {
      "cell_type": "code",
      "source": [
        "#symmetric_difference: crea e salva in un altro insieme gli elementi non duplicati che sono presenti in due insiemi\n",
        "set9 = {\"inter\", \"milan\", \"roma\", \"napoli\"}\n",
        "set10 = {\"inter\", \"roma\", 87, 123}\n",
        "set11 = set9.symmetric_difference(set10)\n",
        "print(set11)"
      ],
      "metadata": {
        "id": "H7GH75ffo0Px"
      },
      "execution_count": null,
      "outputs": []
    },
    {
      "cell_type": "markdown",
      "source": [
        "dizionari (creazione anche con list comprehension, inserimento, modifica, cancellazione, visualizzazione, ricerca, metodi specifici)"
      ],
      "metadata": {
        "id": "Fd_ZniI_zo8O"
      }
    },
    {
      "cell_type": "code",
      "source": [
        "carlo = {\n",
        "    \"genere\":\"maschio\",\n",
        "    \"età\":15,\n",
        "    \"altezza\":200\n",
        "}\n",
        "print(carlo)"
      ],
      "metadata": {
        "colab": {
          "base_uri": "https://localhost:8080/"
        },
        "id": "PO7hZX1Dp4QM",
        "outputId": "a2e8c9af-bcb2-4580-910c-f99342244fe0"
      },
      "execution_count": null,
      "outputs": [
        {
          "output_type": "stream",
          "name": "stdout",
          "text": [
            "{'genere': 'maschio', 'età': 15, 'altezza': 200}\n"
          ]
        }
      ]
    },
    {
      "cell_type": "code",
      "source": [
        "lista6=[\"simone\",\"loto\"]\n",
        "dict1 = {lista6[num]: num for num in range(len(lista6))}\n",
        "print(dict1)"
      ],
      "metadata": {
        "colab": {
          "base_uri": "https://localhost:8080/"
        },
        "id": "PaBlpD1po-5n",
        "outputId": "694593ff-e454-4157-ee09-8d5ebb4953b9"
      },
      "execution_count": null,
      "outputs": [
        {
          "output_type": "stream",
          "name": "stdout",
          "text": [
            "{'simone': 0, 'loto': 1}\n"
          ]
        }
      ]
    },
    {
      "cell_type": "code",
      "source": [
        "#Trattandosi di una collezione modificabile, possono essere aggiunti nuovi elementi\n",
        "carlo.update({\"cognome\":\"Borgheresi\"})\n",
        "carlo[\"capelli\"] = \"neri\"\n",
        "carlo"
      ],
      "metadata": {
        "colab": {
          "base_uri": "https://localhost:8080/"
        },
        "id": "kj5NfQc8pdJ1",
        "outputId": "fa55e88d-f1e3-4ca3-ff21-fb2072a093c8"
      },
      "execution_count": null,
      "outputs": [
        {
          "output_type": "execute_result",
          "data": {
            "text/plain": [
              "{'genere': 'maschio',\n",
              " 'età': 15,\n",
              " 'altezza': 200,\n",
              " 'cognome': 'Borgheresi',\n",
              " 'capelli': 'neri'}"
            ]
          },
          "metadata": {},
          "execution_count": 30
        }
      ]
    },
    {
      "cell_type": "code",
      "source": [
        "#Possono essere modificati\n",
        "carlo[\"genere\"] = \"femmina\"\n",
        "carlo"
      ],
      "metadata": {
        "colab": {
          "base_uri": "https://localhost:8080/"
        },
        "id": "7dCDT1rGqDYb",
        "outputId": "53486df7-3ba8-47de-89e6-d67c1d3a2e92"
      },
      "execution_count": null,
      "outputs": [
        {
          "output_type": "execute_result",
          "data": {
            "text/plain": [
              "{'genere': 'femmina',\n",
              " 'età': 15,\n",
              " 'altezza': 200,\n",
              " 'cognome': 'Borgheresi',\n",
              " 'capelli': 'neri'}"
            ]
          },
          "metadata": {},
          "execution_count": 31
        }
      ]
    },
    {
      "cell_type": "code",
      "source": [
        "#Possono essere rimossi\n",
        "carlo.pop(\"età\")\n",
        "print(carlo)"
      ],
      "metadata": {
        "colab": {
          "base_uri": "https://localhost:8080/"
        },
        "id": "HNvqwSp1qEab",
        "outputId": "ffa03fb1-96c5-4cff-e543-a4dd7baef41f"
      },
      "execution_count": null,
      "outputs": [
        {
          "output_type": "stream",
          "name": "stdout",
          "text": [
            "{'genere': 'femmina', 'altezza': 200, 'cognome': 'Borgheresi', 'capelli': 'neri'}\n"
          ]
        }
      ]
    },
    {
      "cell_type": "code",
      "source": [
        "#Per visualizzare tutte le Chiavi\n",
        "\n",
        "for key in carlo:\n",
        "  print(key)\n",
        "\n",
        "#Oppure\n",
        "print(\"------------------------------\")\n",
        "for key in carlo.keys():\n",
        "  print(key)"
      ],
      "metadata": {
        "colab": {
          "base_uri": "https://localhost:8080/"
        },
        "id": "NCiYX01oqPcc",
        "outputId": "f8ba6a55-ed8b-4415-a1bb-ff556ba460c0"
      },
      "execution_count": null,
      "outputs": [
        {
          "output_type": "stream",
          "name": "stdout",
          "text": [
            "genere\n",
            "altezza\n",
            "cognome\n",
            "capelli\n",
            "------------------------------\n",
            "genere\n",
            "altezza\n",
            "cognome\n",
            "capelli\n"
          ]
        }
      ]
    },
    {
      "cell_type": "code",
      "source": [
        "#Per visualizzare tutti i Valori\n",
        "for key in carlo:\n",
        "  print(carlo[key])\n",
        "\n",
        "print(\"------------------------------\")\n",
        "#Oppure\n",
        "for value in carlo.values():\n",
        "  print(value)"
      ],
      "metadata": {
        "colab": {
          "base_uri": "https://localhost:8080/"
        },
        "id": "DL2E_JIiqV19",
        "outputId": "91efeb2e-33dd-480e-d277-e9f661bbd9ab"
      },
      "execution_count": null,
      "outputs": [
        {
          "output_type": "stream",
          "name": "stdout",
          "text": [
            "femmina\n",
            "200\n",
            "Borgheresi\n",
            "neri\n",
            "------------------------------\n",
            "femmina\n",
            "200\n",
            "Borgheresi\n",
            "neri\n"
          ]
        }
      ]
    },
    {
      "cell_type": "code",
      "source": [
        "carlo2 = carlo.copy()\n",
        "print(carlo2)#con il metodo copy si copia il dizionario in un altr"
      ],
      "metadata": {
        "id": "P-pqw4M7qd4a"
      },
      "execution_count": null,
      "outputs": []
    },
    {
      "cell_type": "code",
      "source": [
        "#Assegna ad ogni chiave un valore uguale\n",
        "#Le chiavi sono prese da una tupla e il valore da una seconda varibile\n",
        "\n",
        "key = (\"autostima\", \"motivazione\", \"felicità\")\n",
        "value = 2\n",
        "\n",
        "vita = dict.fromkeys(key, value)\n",
        "print(vita)"
      ],
      "metadata": {
        "colab": {
          "base_uri": "https://localhost:8080/"
        },
        "id": "w-598-z1qwoZ",
        "outputId": "72bd9977-0b56-41e4-e05d-a13387d82d18"
      },
      "execution_count": null,
      "outputs": [
        {
          "output_type": "stream",
          "name": "stdout",
          "text": [
            "{'autostima': 2, 'motivazione': 2, 'felicità': 2}\n"
          ]
        }
      ]
    },
    {
      "cell_type": "code",
      "source": [
        "centimetri = carlo.get('altezza')\n",
        "print(centimetri)"
      ],
      "metadata": {
        "colab": {
          "base_uri": "https://localhost:8080/"
        },
        "id": "CBbpnbLWrCHV",
        "outputId": "4818eef5-1718-4dcc-aa39-f59fc16f3a1f"
      },
      "execution_count": null,
      "outputs": [
        {
          "output_type": "stream",
          "name": "stdout",
          "text": [
            "200\n"
          ]
        }
      ]
    },
    {
      "cell_type": "code",
      "source": [
        "#Restituisce un view object che contiene come lista le coppie di chiave-valore in un Dizionario\n",
        "studente1 = carlo.items()\n",
        "print(studente1)"
      ],
      "metadata": {
        "colab": {
          "base_uri": "https://localhost:8080/"
        },
        "id": "_O0WS2RDrS0K",
        "outputId": "072c1026-a97b-4275-d859-5fbd81fe3660"
      },
      "execution_count": null,
      "outputs": [
        {
          "output_type": "stream",
          "name": "stdout",
          "text": [
            "dict_items([('genere', 'femmina'), ('altezza', 200), ('cognome', 'Borgheresi'), ('capelli', 'neri')])\n"
          ]
        }
      ]
    },
    {
      "cell_type": "code",
      "source": [
        "#Restituisce un view object che contiene come lista lechiavi di un Dizionario\n",
        "umano = carlo.keys()\n",
        "print(umano)"
      ],
      "metadata": {
        "colab": {
          "base_uri": "https://localhost:8080/"
        },
        "id": "_1RUxuMlr6ZV",
        "outputId": "4014ad19-abad-45b9-cf84-278c8461e5d7"
      },
      "execution_count": null,
      "outputs": [
        {
          "output_type": "stream",
          "name": "stdout",
          "text": [
            "dict_keys(['genere', 'altezza', 'cognome', 'capelli'])\n"
          ]
        }
      ]
    },
    {
      "cell_type": "code",
      "source": [
        "#Restituisce un view object che contiene come lista i valori in un Dizionario\n",
        "decontensto = carlo.values()\n",
        "print(decontensto)"
      ],
      "metadata": {
        "colab": {
          "base_uri": "https://localhost:8080/"
        },
        "id": "mIPWFCSnsGDE",
        "outputId": "1d99e25d-dbcc-464d-f5dd-d3be2da035b3"
      },
      "execution_count": null,
      "outputs": [
        {
          "output_type": "stream",
          "name": "stdout",
          "text": [
            "dict_values(['femmina', 200, 'Borgheresi', 'neri'])\n"
          ]
        }
      ]
    },
    {
      "cell_type": "markdown",
      "source": [
        "criteri per la scelta della struttura dati più adatta all'applicazione"
      ],
      "metadata": {
        "id": "PD49J-Gv0qJ8"
      }
    },
    {
      "cell_type": "markdown",
      "source": [
        "#Pandas"
      ],
      "metadata": {
        "id": "eeMDQKKu1Brz"
      }
    },
    {
      "cell_type": "markdown",
      "source": [
        "creazione del dataframe da file di tipo diverso"
      ],
      "metadata": {
        "id": "7qn3k6JD1D-K"
      }
    },
    {
      "cell_type": "code",
      "source": [
        "import pandas as pd\n",
        "df = pd.read_csv('https://raw.githubusercontent.com/italia/covid19-opendata-vaccini/master/dati/consegne-vaccini-latest.csv') \n",
        "df"
      ],
      "metadata": {
        "colab": {
          "base_uri": "https://localhost:8080/",
          "height": 424
        },
        "id": "l0U_sI8XstRe",
        "outputId": "5ab9998e-edae-4d71-bbc5-817b90b33a23"
      },
      "execution_count": null,
      "outputs": [
        {
          "output_type": "execute_result",
          "data": {
            "text/plain": [
              "     area               forn  numero_dosi data_consegna   N1    N2  ISTAT  \\\n",
              "0     ABR    Pfizer/BioNTech          135    2020-12-27  ITF  ITF1     13   \n",
              "1     ABR    Pfizer/BioNTech         7800    2020-12-30  ITF  ITF1     13   \n",
              "2     ABR    Pfizer/BioNTech         3900    2021-01-05  ITF  ITF1     13   \n",
              "3     ABR    Pfizer/BioNTech         3900    2021-01-07  ITF  ITF1     13   \n",
              "4     ABR    Pfizer/BioNTech         3900    2021-01-11  ITF  ITF1     13   \n",
              "...   ...                ...          ...           ...  ...   ...    ...   \n",
              "7580  VEN            Moderna        72600    2022-09-26  ITH  ITH3      5   \n",
              "7581  VEN    Pfizer/BioNTech        77760    2022-10-20  ITH  ITH3      5   \n",
              "7582  VEN  Pfizer Pediatrico        38400    2022-10-31  ITH  ITH3      5   \n",
              "7583  VEN    Pfizer/BioNTech        77760    2022-11-15  ITH  ITH3      5   \n",
              "7584  VEN  Pfizer Pediatrico         4800    2022-11-23  ITH  ITH3      5   \n",
              "\n",
              "          reg  \n",
              "0     Abruzzo  \n",
              "1     Abruzzo  \n",
              "2     Abruzzo  \n",
              "3     Abruzzo  \n",
              "4     Abruzzo  \n",
              "...       ...  \n",
              "7580   Veneto  \n",
              "7581   Veneto  \n",
              "7582   Veneto  \n",
              "7583   Veneto  \n",
              "7584   Veneto  \n",
              "\n",
              "[7585 rows x 8 columns]"
            ],
            "text/html": [
              "\n",
              "  <div id=\"df-59c04246-7cf0-4c8e-924c-8ec9892ed771\">\n",
              "    <div class=\"colab-df-container\">\n",
              "      <div>\n",
              "<style scoped>\n",
              "    .dataframe tbody tr th:only-of-type {\n",
              "        vertical-align: middle;\n",
              "    }\n",
              "\n",
              "    .dataframe tbody tr th {\n",
              "        vertical-align: top;\n",
              "    }\n",
              "\n",
              "    .dataframe thead th {\n",
              "        text-align: right;\n",
              "    }\n",
              "</style>\n",
              "<table border=\"1\" class=\"dataframe\">\n",
              "  <thead>\n",
              "    <tr style=\"text-align: right;\">\n",
              "      <th></th>\n",
              "      <th>area</th>\n",
              "      <th>forn</th>\n",
              "      <th>numero_dosi</th>\n",
              "      <th>data_consegna</th>\n",
              "      <th>N1</th>\n",
              "      <th>N2</th>\n",
              "      <th>ISTAT</th>\n",
              "      <th>reg</th>\n",
              "    </tr>\n",
              "  </thead>\n",
              "  <tbody>\n",
              "    <tr>\n",
              "      <th>0</th>\n",
              "      <td>ABR</td>\n",
              "      <td>Pfizer/BioNTech</td>\n",
              "      <td>135</td>\n",
              "      <td>2020-12-27</td>\n",
              "      <td>ITF</td>\n",
              "      <td>ITF1</td>\n",
              "      <td>13</td>\n",
              "      <td>Abruzzo</td>\n",
              "    </tr>\n",
              "    <tr>\n",
              "      <th>1</th>\n",
              "      <td>ABR</td>\n",
              "      <td>Pfizer/BioNTech</td>\n",
              "      <td>7800</td>\n",
              "      <td>2020-12-30</td>\n",
              "      <td>ITF</td>\n",
              "      <td>ITF1</td>\n",
              "      <td>13</td>\n",
              "      <td>Abruzzo</td>\n",
              "    </tr>\n",
              "    <tr>\n",
              "      <th>2</th>\n",
              "      <td>ABR</td>\n",
              "      <td>Pfizer/BioNTech</td>\n",
              "      <td>3900</td>\n",
              "      <td>2021-01-05</td>\n",
              "      <td>ITF</td>\n",
              "      <td>ITF1</td>\n",
              "      <td>13</td>\n",
              "      <td>Abruzzo</td>\n",
              "    </tr>\n",
              "    <tr>\n",
              "      <th>3</th>\n",
              "      <td>ABR</td>\n",
              "      <td>Pfizer/BioNTech</td>\n",
              "      <td>3900</td>\n",
              "      <td>2021-01-07</td>\n",
              "      <td>ITF</td>\n",
              "      <td>ITF1</td>\n",
              "      <td>13</td>\n",
              "      <td>Abruzzo</td>\n",
              "    </tr>\n",
              "    <tr>\n",
              "      <th>4</th>\n",
              "      <td>ABR</td>\n",
              "      <td>Pfizer/BioNTech</td>\n",
              "      <td>3900</td>\n",
              "      <td>2021-01-11</td>\n",
              "      <td>ITF</td>\n",
              "      <td>ITF1</td>\n",
              "      <td>13</td>\n",
              "      <td>Abruzzo</td>\n",
              "    </tr>\n",
              "    <tr>\n",
              "      <th>...</th>\n",
              "      <td>...</td>\n",
              "      <td>...</td>\n",
              "      <td>...</td>\n",
              "      <td>...</td>\n",
              "      <td>...</td>\n",
              "      <td>...</td>\n",
              "      <td>...</td>\n",
              "      <td>...</td>\n",
              "    </tr>\n",
              "    <tr>\n",
              "      <th>7580</th>\n",
              "      <td>VEN</td>\n",
              "      <td>Moderna</td>\n",
              "      <td>72600</td>\n",
              "      <td>2022-09-26</td>\n",
              "      <td>ITH</td>\n",
              "      <td>ITH3</td>\n",
              "      <td>5</td>\n",
              "      <td>Veneto</td>\n",
              "    </tr>\n",
              "    <tr>\n",
              "      <th>7581</th>\n",
              "      <td>VEN</td>\n",
              "      <td>Pfizer/BioNTech</td>\n",
              "      <td>77760</td>\n",
              "      <td>2022-10-20</td>\n",
              "      <td>ITH</td>\n",
              "      <td>ITH3</td>\n",
              "      <td>5</td>\n",
              "      <td>Veneto</td>\n",
              "    </tr>\n",
              "    <tr>\n",
              "      <th>7582</th>\n",
              "      <td>VEN</td>\n",
              "      <td>Pfizer Pediatrico</td>\n",
              "      <td>38400</td>\n",
              "      <td>2022-10-31</td>\n",
              "      <td>ITH</td>\n",
              "      <td>ITH3</td>\n",
              "      <td>5</td>\n",
              "      <td>Veneto</td>\n",
              "    </tr>\n",
              "    <tr>\n",
              "      <th>7583</th>\n",
              "      <td>VEN</td>\n",
              "      <td>Pfizer/BioNTech</td>\n",
              "      <td>77760</td>\n",
              "      <td>2022-11-15</td>\n",
              "      <td>ITH</td>\n",
              "      <td>ITH3</td>\n",
              "      <td>5</td>\n",
              "      <td>Veneto</td>\n",
              "    </tr>\n",
              "    <tr>\n",
              "      <th>7584</th>\n",
              "      <td>VEN</td>\n",
              "      <td>Pfizer Pediatrico</td>\n",
              "      <td>4800</td>\n",
              "      <td>2022-11-23</td>\n",
              "      <td>ITH</td>\n",
              "      <td>ITH3</td>\n",
              "      <td>5</td>\n",
              "      <td>Veneto</td>\n",
              "    </tr>\n",
              "  </tbody>\n",
              "</table>\n",
              "<p>7585 rows × 8 columns</p>\n",
              "</div>\n",
              "      <button class=\"colab-df-convert\" onclick=\"convertToInteractive('df-59c04246-7cf0-4c8e-924c-8ec9892ed771')\"\n",
              "              title=\"Convert this dataframe to an interactive table.\"\n",
              "              style=\"display:none;\">\n",
              "        \n",
              "  <svg xmlns=\"http://www.w3.org/2000/svg\" height=\"24px\"viewBox=\"0 0 24 24\"\n",
              "       width=\"24px\">\n",
              "    <path d=\"M0 0h24v24H0V0z\" fill=\"none\"/>\n",
              "    <path d=\"M18.56 5.44l.94 2.06.94-2.06 2.06-.94-2.06-.94-.94-2.06-.94 2.06-2.06.94zm-11 1L8.5 8.5l.94-2.06 2.06-.94-2.06-.94L8.5 2.5l-.94 2.06-2.06.94zm10 10l.94 2.06.94-2.06 2.06-.94-2.06-.94-.94-2.06-.94 2.06-2.06.94z\"/><path d=\"M17.41 7.96l-1.37-1.37c-.4-.4-.92-.59-1.43-.59-.52 0-1.04.2-1.43.59L10.3 9.45l-7.72 7.72c-.78.78-.78 2.05 0 2.83L4 21.41c.39.39.9.59 1.41.59.51 0 1.02-.2 1.41-.59l7.78-7.78 2.81-2.81c.8-.78.8-2.07 0-2.86zM5.41 20L4 18.59l7.72-7.72 1.47 1.35L5.41 20z\"/>\n",
              "  </svg>\n",
              "      </button>\n",
              "      \n",
              "  <style>\n",
              "    .colab-df-container {\n",
              "      display:flex;\n",
              "      flex-wrap:wrap;\n",
              "      gap: 12px;\n",
              "    }\n",
              "\n",
              "    .colab-df-convert {\n",
              "      background-color: #E8F0FE;\n",
              "      border: none;\n",
              "      border-radius: 50%;\n",
              "      cursor: pointer;\n",
              "      display: none;\n",
              "      fill: #1967D2;\n",
              "      height: 32px;\n",
              "      padding: 0 0 0 0;\n",
              "      width: 32px;\n",
              "    }\n",
              "\n",
              "    .colab-df-convert:hover {\n",
              "      background-color: #E2EBFA;\n",
              "      box-shadow: 0px 1px 2px rgba(60, 64, 67, 0.3), 0px 1px 3px 1px rgba(60, 64, 67, 0.15);\n",
              "      fill: #174EA6;\n",
              "    }\n",
              "\n",
              "    [theme=dark] .colab-df-convert {\n",
              "      background-color: #3B4455;\n",
              "      fill: #D2E3FC;\n",
              "    }\n",
              "\n",
              "    [theme=dark] .colab-df-convert:hover {\n",
              "      background-color: #434B5C;\n",
              "      box-shadow: 0px 1px 3px 1px rgba(0, 0, 0, 0.15);\n",
              "      filter: drop-shadow(0px 1px 2px rgba(0, 0, 0, 0.3));\n",
              "      fill: #FFFFFF;\n",
              "    }\n",
              "  </style>\n",
              "\n",
              "      <script>\n",
              "        const buttonEl =\n",
              "          document.querySelector('#df-59c04246-7cf0-4c8e-924c-8ec9892ed771 button.colab-df-convert');\n",
              "        buttonEl.style.display =\n",
              "          google.colab.kernel.accessAllowed ? 'block' : 'none';\n",
              "\n",
              "        async function convertToInteractive(key) {\n",
              "          const element = document.querySelector('#df-59c04246-7cf0-4c8e-924c-8ec9892ed771');\n",
              "          const dataTable =\n",
              "            await google.colab.kernel.invokeFunction('convertToInteractive',\n",
              "                                                     [key], {});\n",
              "          if (!dataTable) return;\n",
              "\n",
              "          const docLinkHtml = 'Like what you see? Visit the ' +\n",
              "            '<a target=\"_blank\" href=https://colab.research.google.com/notebooks/data_table.ipynb>data table notebook</a>'\n",
              "            + ' to learn more about interactive tables.';\n",
              "          element.innerHTML = '';\n",
              "          dataTable['output_type'] = 'display_data';\n",
              "          await google.colab.output.renderOutput(dataTable, element);\n",
              "          const docLink = document.createElement('div');\n",
              "          docLink.innerHTML = docLinkHtml;\n",
              "          element.appendChild(docLink);\n",
              "        }\n",
              "      </script>\n",
              "    </div>\n",
              "  </div>\n",
              "  "
            ]
          },
          "metadata": {},
          "execution_count": 108
        }
      ]
    },
    {
      "cell_type": "markdown",
      "source": [
        "eliminazione di righe (più metodi se possibile)"
      ],
      "metadata": {
        "id": "T_OZh9c-1KZ0"
      }
    },
    {
      "cell_type": "code",
      "source": [
        "df.drop(1, inplace=True)"
      ],
      "metadata": {
        "id": "LrUC928atVNt"
      },
      "execution_count": null,
      "outputs": []
    },
    {
      "cell_type": "code",
      "source": [
        "df"
      ],
      "metadata": {
        "id": "0dtFPEdvvF-x"
      },
      "execution_count": null,
      "outputs": []
    },
    {
      "cell_type": "markdown",
      "source": [
        "eliminazione di colonne (più metodi se possibile)"
      ],
      "metadata": {
        "id": "xJe3vnfZ1Npr"
      }
    },
    {
      "cell_type": "code",
      "source": [
        "del df[\"area\"]\n",
        "df"
      ],
      "metadata": {
        "id": "AHF7_YUItek9"
      },
      "execution_count": null,
      "outputs": []
    },
    {
      "cell_type": "code",
      "source": [
        "df.drop([\"area\"],axis=1, inplace=True)\n",
        "df"
      ],
      "metadata": {
        "colab": {
          "base_uri": "https://localhost:8080/",
          "height": 424
        },
        "id": "vQ-0VeR8wugP",
        "outputId": "b67fdb01-7a9c-482e-bc2b-3be0cc4a6798"
      },
      "execution_count": null,
      "outputs": [
        {
          "output_type": "execute_result",
          "data": {
            "text/plain": [
              "                   forn  numero_dosi data_consegna   N1    N2  ISTAT      reg\n",
              "0       Pfizer/BioNTech          135    2020-12-27  ITF  ITF1     13  Abruzzo\n",
              "2       Pfizer/BioNTech         3900    2021-01-05  ITF  ITF1     13  Abruzzo\n",
              "3       Pfizer/BioNTech         3900    2021-01-07  ITF  ITF1     13  Abruzzo\n",
              "4       Pfizer/BioNTech         3900    2021-01-11  ITF  ITF1     13  Abruzzo\n",
              "5       Pfizer/BioNTech         4875    2021-01-12  ITF  ITF1     13  Abruzzo\n",
              "...                 ...          ...           ...  ...   ...    ...      ...\n",
              "7580            Moderna        72600    2022-09-26  ITH  ITH3      5   Veneto\n",
              "7581    Pfizer/BioNTech        77760    2022-10-20  ITH  ITH3      5   Veneto\n",
              "7582  Pfizer Pediatrico        38400    2022-10-31  ITH  ITH3      5   Veneto\n",
              "7583    Pfizer/BioNTech        77760    2022-11-15  ITH  ITH3      5   Veneto\n",
              "7584  Pfizer Pediatrico         4800    2022-11-23  ITH  ITH3      5   Veneto\n",
              "\n",
              "[7584 rows x 7 columns]"
            ],
            "text/html": [
              "\n",
              "  <div id=\"df-cb316343-88e9-4fd4-866f-9b3de3e93a97\">\n",
              "    <div class=\"colab-df-container\">\n",
              "      <div>\n",
              "<style scoped>\n",
              "    .dataframe tbody tr th:only-of-type {\n",
              "        vertical-align: middle;\n",
              "    }\n",
              "\n",
              "    .dataframe tbody tr th {\n",
              "        vertical-align: top;\n",
              "    }\n",
              "\n",
              "    .dataframe thead th {\n",
              "        text-align: right;\n",
              "    }\n",
              "</style>\n",
              "<table border=\"1\" class=\"dataframe\">\n",
              "  <thead>\n",
              "    <tr style=\"text-align: right;\">\n",
              "      <th></th>\n",
              "      <th>forn</th>\n",
              "      <th>numero_dosi</th>\n",
              "      <th>data_consegna</th>\n",
              "      <th>N1</th>\n",
              "      <th>N2</th>\n",
              "      <th>ISTAT</th>\n",
              "      <th>reg</th>\n",
              "    </tr>\n",
              "  </thead>\n",
              "  <tbody>\n",
              "    <tr>\n",
              "      <th>0</th>\n",
              "      <td>Pfizer/BioNTech</td>\n",
              "      <td>135</td>\n",
              "      <td>2020-12-27</td>\n",
              "      <td>ITF</td>\n",
              "      <td>ITF1</td>\n",
              "      <td>13</td>\n",
              "      <td>Abruzzo</td>\n",
              "    </tr>\n",
              "    <tr>\n",
              "      <th>2</th>\n",
              "      <td>Pfizer/BioNTech</td>\n",
              "      <td>3900</td>\n",
              "      <td>2021-01-05</td>\n",
              "      <td>ITF</td>\n",
              "      <td>ITF1</td>\n",
              "      <td>13</td>\n",
              "      <td>Abruzzo</td>\n",
              "    </tr>\n",
              "    <tr>\n",
              "      <th>3</th>\n",
              "      <td>Pfizer/BioNTech</td>\n",
              "      <td>3900</td>\n",
              "      <td>2021-01-07</td>\n",
              "      <td>ITF</td>\n",
              "      <td>ITF1</td>\n",
              "      <td>13</td>\n",
              "      <td>Abruzzo</td>\n",
              "    </tr>\n",
              "    <tr>\n",
              "      <th>4</th>\n",
              "      <td>Pfizer/BioNTech</td>\n",
              "      <td>3900</td>\n",
              "      <td>2021-01-11</td>\n",
              "      <td>ITF</td>\n",
              "      <td>ITF1</td>\n",
              "      <td>13</td>\n",
              "      <td>Abruzzo</td>\n",
              "    </tr>\n",
              "    <tr>\n",
              "      <th>5</th>\n",
              "      <td>Pfizer/BioNTech</td>\n",
              "      <td>4875</td>\n",
              "      <td>2021-01-12</td>\n",
              "      <td>ITF</td>\n",
              "      <td>ITF1</td>\n",
              "      <td>13</td>\n",
              "      <td>Abruzzo</td>\n",
              "    </tr>\n",
              "    <tr>\n",
              "      <th>...</th>\n",
              "      <td>...</td>\n",
              "      <td>...</td>\n",
              "      <td>...</td>\n",
              "      <td>...</td>\n",
              "      <td>...</td>\n",
              "      <td>...</td>\n",
              "      <td>...</td>\n",
              "    </tr>\n",
              "    <tr>\n",
              "      <th>7580</th>\n",
              "      <td>Moderna</td>\n",
              "      <td>72600</td>\n",
              "      <td>2022-09-26</td>\n",
              "      <td>ITH</td>\n",
              "      <td>ITH3</td>\n",
              "      <td>5</td>\n",
              "      <td>Veneto</td>\n",
              "    </tr>\n",
              "    <tr>\n",
              "      <th>7581</th>\n",
              "      <td>Pfizer/BioNTech</td>\n",
              "      <td>77760</td>\n",
              "      <td>2022-10-20</td>\n",
              "      <td>ITH</td>\n",
              "      <td>ITH3</td>\n",
              "      <td>5</td>\n",
              "      <td>Veneto</td>\n",
              "    </tr>\n",
              "    <tr>\n",
              "      <th>7582</th>\n",
              "      <td>Pfizer Pediatrico</td>\n",
              "      <td>38400</td>\n",
              "      <td>2022-10-31</td>\n",
              "      <td>ITH</td>\n",
              "      <td>ITH3</td>\n",
              "      <td>5</td>\n",
              "      <td>Veneto</td>\n",
              "    </tr>\n",
              "    <tr>\n",
              "      <th>7583</th>\n",
              "      <td>Pfizer/BioNTech</td>\n",
              "      <td>77760</td>\n",
              "      <td>2022-11-15</td>\n",
              "      <td>ITH</td>\n",
              "      <td>ITH3</td>\n",
              "      <td>5</td>\n",
              "      <td>Veneto</td>\n",
              "    </tr>\n",
              "    <tr>\n",
              "      <th>7584</th>\n",
              "      <td>Pfizer Pediatrico</td>\n",
              "      <td>4800</td>\n",
              "      <td>2022-11-23</td>\n",
              "      <td>ITH</td>\n",
              "      <td>ITH3</td>\n",
              "      <td>5</td>\n",
              "      <td>Veneto</td>\n",
              "    </tr>\n",
              "  </tbody>\n",
              "</table>\n",
              "<p>7584 rows × 7 columns</p>\n",
              "</div>\n",
              "      <button class=\"colab-df-convert\" onclick=\"convertToInteractive('df-cb316343-88e9-4fd4-866f-9b3de3e93a97')\"\n",
              "              title=\"Convert this dataframe to an interactive table.\"\n",
              "              style=\"display:none;\">\n",
              "        \n",
              "  <svg xmlns=\"http://www.w3.org/2000/svg\" height=\"24px\"viewBox=\"0 0 24 24\"\n",
              "       width=\"24px\">\n",
              "    <path d=\"M0 0h24v24H0V0z\" fill=\"none\"/>\n",
              "    <path d=\"M18.56 5.44l.94 2.06.94-2.06 2.06-.94-2.06-.94-.94-2.06-.94 2.06-2.06.94zm-11 1L8.5 8.5l.94-2.06 2.06-.94-2.06-.94L8.5 2.5l-.94 2.06-2.06.94zm10 10l.94 2.06.94-2.06 2.06-.94-2.06-.94-.94-2.06-.94 2.06-2.06.94z\"/><path d=\"M17.41 7.96l-1.37-1.37c-.4-.4-.92-.59-1.43-.59-.52 0-1.04.2-1.43.59L10.3 9.45l-7.72 7.72c-.78.78-.78 2.05 0 2.83L4 21.41c.39.39.9.59 1.41.59.51 0 1.02-.2 1.41-.59l7.78-7.78 2.81-2.81c.8-.78.8-2.07 0-2.86zM5.41 20L4 18.59l7.72-7.72 1.47 1.35L5.41 20z\"/>\n",
              "  </svg>\n",
              "      </button>\n",
              "      \n",
              "  <style>\n",
              "    .colab-df-container {\n",
              "      display:flex;\n",
              "      flex-wrap:wrap;\n",
              "      gap: 12px;\n",
              "    }\n",
              "\n",
              "    .colab-df-convert {\n",
              "      background-color: #E8F0FE;\n",
              "      border: none;\n",
              "      border-radius: 50%;\n",
              "      cursor: pointer;\n",
              "      display: none;\n",
              "      fill: #1967D2;\n",
              "      height: 32px;\n",
              "      padding: 0 0 0 0;\n",
              "      width: 32px;\n",
              "    }\n",
              "\n",
              "    .colab-df-convert:hover {\n",
              "      background-color: #E2EBFA;\n",
              "      box-shadow: 0px 1px 2px rgba(60, 64, 67, 0.3), 0px 1px 3px 1px rgba(60, 64, 67, 0.15);\n",
              "      fill: #174EA6;\n",
              "    }\n",
              "\n",
              "    [theme=dark] .colab-df-convert {\n",
              "      background-color: #3B4455;\n",
              "      fill: #D2E3FC;\n",
              "    }\n",
              "\n",
              "    [theme=dark] .colab-df-convert:hover {\n",
              "      background-color: #434B5C;\n",
              "      box-shadow: 0px 1px 3px 1px rgba(0, 0, 0, 0.15);\n",
              "      filter: drop-shadow(0px 1px 2px rgba(0, 0, 0, 0.3));\n",
              "      fill: #FFFFFF;\n",
              "    }\n",
              "  </style>\n",
              "\n",
              "      <script>\n",
              "        const buttonEl =\n",
              "          document.querySelector('#df-cb316343-88e9-4fd4-866f-9b3de3e93a97 button.colab-df-convert');\n",
              "        buttonEl.style.display =\n",
              "          google.colab.kernel.accessAllowed ? 'block' : 'none';\n",
              "\n",
              "        async function convertToInteractive(key) {\n",
              "          const element = document.querySelector('#df-cb316343-88e9-4fd4-866f-9b3de3e93a97');\n",
              "          const dataTable =\n",
              "            await google.colab.kernel.invokeFunction('convertToInteractive',\n",
              "                                                     [key], {});\n",
              "          if (!dataTable) return;\n",
              "\n",
              "          const docLinkHtml = 'Like what you see? Visit the ' +\n",
              "            '<a target=\"_blank\" href=https://colab.research.google.com/notebooks/data_table.ipynb>data table notebook</a>'\n",
              "            + ' to learn more about interactive tables.';\n",
              "          element.innerHTML = '';\n",
              "          dataTable['output_type'] = 'display_data';\n",
              "          await google.colab.output.renderOutput(dataTable, element);\n",
              "          const docLink = document.createElement('div');\n",
              "          docLink.innerHTML = docLinkHtml;\n",
              "          element.appendChild(docLink);\n",
              "        }\n",
              "      </script>\n",
              "    </div>\n",
              "  </div>\n",
              "  "
            ]
          },
          "metadata": {},
          "execution_count": 77
        }
      ]
    },
    {
      "cell_type": "markdown",
      "source": [
        "eliminazione di valori nulli (più metodi se possibile)"
      ],
      "metadata": {
        "id": "C1-C6Vjb1PME"
      }
    },
    {
      "cell_type": "code",
      "source": [
        "df.dropna(inplace=True)\n",
        "df"
      ],
      "metadata": {
        "colab": {
          "base_uri": "https://localhost:8080/",
          "height": 424
        },
        "id": "H553mbzJxI8J",
        "outputId": "c27af37c-32ac-4290-be10-ed84ba15b828"
      },
      "execution_count": null,
      "outputs": [
        {
          "output_type": "execute_result",
          "data": {
            "text/plain": [
              "                   forn  numero_dosi data_consegna   N1    N2  ISTAT      reg\n",
              "0       Pfizer/BioNTech          135    2020-12-27  ITF  ITF1     13  Abruzzo\n",
              "2       Pfizer/BioNTech         3900    2021-01-05  ITF  ITF1     13  Abruzzo\n",
              "3       Pfizer/BioNTech         3900    2021-01-07  ITF  ITF1     13  Abruzzo\n",
              "4       Pfizer/BioNTech         3900    2021-01-11  ITF  ITF1     13  Abruzzo\n",
              "5       Pfizer/BioNTech         4875    2021-01-12  ITF  ITF1     13  Abruzzo\n",
              "...                 ...          ...           ...  ...   ...    ...      ...\n",
              "7580            Moderna        72600    2022-09-26  ITH  ITH3      5   Veneto\n",
              "7581    Pfizer/BioNTech        77760    2022-10-20  ITH  ITH3      5   Veneto\n",
              "7582  Pfizer Pediatrico        38400    2022-10-31  ITH  ITH3      5   Veneto\n",
              "7583    Pfizer/BioNTech        77760    2022-11-15  ITH  ITH3      5   Veneto\n",
              "7584  Pfizer Pediatrico         4800    2022-11-23  ITH  ITH3      5   Veneto\n",
              "\n",
              "[7584 rows x 7 columns]"
            ],
            "text/html": [
              "\n",
              "  <div id=\"df-ef64af3f-cf04-47c1-89f0-12553f35b7ee\">\n",
              "    <div class=\"colab-df-container\">\n",
              "      <div>\n",
              "<style scoped>\n",
              "    .dataframe tbody tr th:only-of-type {\n",
              "        vertical-align: middle;\n",
              "    }\n",
              "\n",
              "    .dataframe tbody tr th {\n",
              "        vertical-align: top;\n",
              "    }\n",
              "\n",
              "    .dataframe thead th {\n",
              "        text-align: right;\n",
              "    }\n",
              "</style>\n",
              "<table border=\"1\" class=\"dataframe\">\n",
              "  <thead>\n",
              "    <tr style=\"text-align: right;\">\n",
              "      <th></th>\n",
              "      <th>forn</th>\n",
              "      <th>numero_dosi</th>\n",
              "      <th>data_consegna</th>\n",
              "      <th>N1</th>\n",
              "      <th>N2</th>\n",
              "      <th>ISTAT</th>\n",
              "      <th>reg</th>\n",
              "    </tr>\n",
              "  </thead>\n",
              "  <tbody>\n",
              "    <tr>\n",
              "      <th>0</th>\n",
              "      <td>Pfizer/BioNTech</td>\n",
              "      <td>135</td>\n",
              "      <td>2020-12-27</td>\n",
              "      <td>ITF</td>\n",
              "      <td>ITF1</td>\n",
              "      <td>13</td>\n",
              "      <td>Abruzzo</td>\n",
              "    </tr>\n",
              "    <tr>\n",
              "      <th>2</th>\n",
              "      <td>Pfizer/BioNTech</td>\n",
              "      <td>3900</td>\n",
              "      <td>2021-01-05</td>\n",
              "      <td>ITF</td>\n",
              "      <td>ITF1</td>\n",
              "      <td>13</td>\n",
              "      <td>Abruzzo</td>\n",
              "    </tr>\n",
              "    <tr>\n",
              "      <th>3</th>\n",
              "      <td>Pfizer/BioNTech</td>\n",
              "      <td>3900</td>\n",
              "      <td>2021-01-07</td>\n",
              "      <td>ITF</td>\n",
              "      <td>ITF1</td>\n",
              "      <td>13</td>\n",
              "      <td>Abruzzo</td>\n",
              "    </tr>\n",
              "    <tr>\n",
              "      <th>4</th>\n",
              "      <td>Pfizer/BioNTech</td>\n",
              "      <td>3900</td>\n",
              "      <td>2021-01-11</td>\n",
              "      <td>ITF</td>\n",
              "      <td>ITF1</td>\n",
              "      <td>13</td>\n",
              "      <td>Abruzzo</td>\n",
              "    </tr>\n",
              "    <tr>\n",
              "      <th>5</th>\n",
              "      <td>Pfizer/BioNTech</td>\n",
              "      <td>4875</td>\n",
              "      <td>2021-01-12</td>\n",
              "      <td>ITF</td>\n",
              "      <td>ITF1</td>\n",
              "      <td>13</td>\n",
              "      <td>Abruzzo</td>\n",
              "    </tr>\n",
              "    <tr>\n",
              "      <th>...</th>\n",
              "      <td>...</td>\n",
              "      <td>...</td>\n",
              "      <td>...</td>\n",
              "      <td>...</td>\n",
              "      <td>...</td>\n",
              "      <td>...</td>\n",
              "      <td>...</td>\n",
              "    </tr>\n",
              "    <tr>\n",
              "      <th>7580</th>\n",
              "      <td>Moderna</td>\n",
              "      <td>72600</td>\n",
              "      <td>2022-09-26</td>\n",
              "      <td>ITH</td>\n",
              "      <td>ITH3</td>\n",
              "      <td>5</td>\n",
              "      <td>Veneto</td>\n",
              "    </tr>\n",
              "    <tr>\n",
              "      <th>7581</th>\n",
              "      <td>Pfizer/BioNTech</td>\n",
              "      <td>77760</td>\n",
              "      <td>2022-10-20</td>\n",
              "      <td>ITH</td>\n",
              "      <td>ITH3</td>\n",
              "      <td>5</td>\n",
              "      <td>Veneto</td>\n",
              "    </tr>\n",
              "    <tr>\n",
              "      <th>7582</th>\n",
              "      <td>Pfizer Pediatrico</td>\n",
              "      <td>38400</td>\n",
              "      <td>2022-10-31</td>\n",
              "      <td>ITH</td>\n",
              "      <td>ITH3</td>\n",
              "      <td>5</td>\n",
              "      <td>Veneto</td>\n",
              "    </tr>\n",
              "    <tr>\n",
              "      <th>7583</th>\n",
              "      <td>Pfizer/BioNTech</td>\n",
              "      <td>77760</td>\n",
              "      <td>2022-11-15</td>\n",
              "      <td>ITH</td>\n",
              "      <td>ITH3</td>\n",
              "      <td>5</td>\n",
              "      <td>Veneto</td>\n",
              "    </tr>\n",
              "    <tr>\n",
              "      <th>7584</th>\n",
              "      <td>Pfizer Pediatrico</td>\n",
              "      <td>4800</td>\n",
              "      <td>2022-11-23</td>\n",
              "      <td>ITH</td>\n",
              "      <td>ITH3</td>\n",
              "      <td>5</td>\n",
              "      <td>Veneto</td>\n",
              "    </tr>\n",
              "  </tbody>\n",
              "</table>\n",
              "<p>7584 rows × 7 columns</p>\n",
              "</div>\n",
              "      <button class=\"colab-df-convert\" onclick=\"convertToInteractive('df-ef64af3f-cf04-47c1-89f0-12553f35b7ee')\"\n",
              "              title=\"Convert this dataframe to an interactive table.\"\n",
              "              style=\"display:none;\">\n",
              "        \n",
              "  <svg xmlns=\"http://www.w3.org/2000/svg\" height=\"24px\"viewBox=\"0 0 24 24\"\n",
              "       width=\"24px\">\n",
              "    <path d=\"M0 0h24v24H0V0z\" fill=\"none\"/>\n",
              "    <path d=\"M18.56 5.44l.94 2.06.94-2.06 2.06-.94-2.06-.94-.94-2.06-.94 2.06-2.06.94zm-11 1L8.5 8.5l.94-2.06 2.06-.94-2.06-.94L8.5 2.5l-.94 2.06-2.06.94zm10 10l.94 2.06.94-2.06 2.06-.94-2.06-.94-.94-2.06-.94 2.06-2.06.94z\"/><path d=\"M17.41 7.96l-1.37-1.37c-.4-.4-.92-.59-1.43-.59-.52 0-1.04.2-1.43.59L10.3 9.45l-7.72 7.72c-.78.78-.78 2.05 0 2.83L4 21.41c.39.39.9.59 1.41.59.51 0 1.02-.2 1.41-.59l7.78-7.78 2.81-2.81c.8-.78.8-2.07 0-2.86zM5.41 20L4 18.59l7.72-7.72 1.47 1.35L5.41 20z\"/>\n",
              "  </svg>\n",
              "      </button>\n",
              "      \n",
              "  <style>\n",
              "    .colab-df-container {\n",
              "      display:flex;\n",
              "      flex-wrap:wrap;\n",
              "      gap: 12px;\n",
              "    }\n",
              "\n",
              "    .colab-df-convert {\n",
              "      background-color: #E8F0FE;\n",
              "      border: none;\n",
              "      border-radius: 50%;\n",
              "      cursor: pointer;\n",
              "      display: none;\n",
              "      fill: #1967D2;\n",
              "      height: 32px;\n",
              "      padding: 0 0 0 0;\n",
              "      width: 32px;\n",
              "    }\n",
              "\n",
              "    .colab-df-convert:hover {\n",
              "      background-color: #E2EBFA;\n",
              "      box-shadow: 0px 1px 2px rgba(60, 64, 67, 0.3), 0px 1px 3px 1px rgba(60, 64, 67, 0.15);\n",
              "      fill: #174EA6;\n",
              "    }\n",
              "\n",
              "    [theme=dark] .colab-df-convert {\n",
              "      background-color: #3B4455;\n",
              "      fill: #D2E3FC;\n",
              "    }\n",
              "\n",
              "    [theme=dark] .colab-df-convert:hover {\n",
              "      background-color: #434B5C;\n",
              "      box-shadow: 0px 1px 3px 1px rgba(0, 0, 0, 0.15);\n",
              "      filter: drop-shadow(0px 1px 2px rgba(0, 0, 0, 0.3));\n",
              "      fill: #FFFFFF;\n",
              "    }\n",
              "  </style>\n",
              "\n",
              "      <script>\n",
              "        const buttonEl =\n",
              "          document.querySelector('#df-ef64af3f-cf04-47c1-89f0-12553f35b7ee button.colab-df-convert');\n",
              "        buttonEl.style.display =\n",
              "          google.colab.kernel.accessAllowed ? 'block' : 'none';\n",
              "\n",
              "        async function convertToInteractive(key) {\n",
              "          const element = document.querySelector('#df-ef64af3f-cf04-47c1-89f0-12553f35b7ee');\n",
              "          const dataTable =\n",
              "            await google.colab.kernel.invokeFunction('convertToInteractive',\n",
              "                                                     [key], {});\n",
              "          if (!dataTable) return;\n",
              "\n",
              "          const docLinkHtml = 'Like what you see? Visit the ' +\n",
              "            '<a target=\"_blank\" href=https://colab.research.google.com/notebooks/data_table.ipynb>data table notebook</a>'\n",
              "            + ' to learn more about interactive tables.';\n",
              "          element.innerHTML = '';\n",
              "          dataTable['output_type'] = 'display_data';\n",
              "          await google.colab.output.renderOutput(dataTable, element);\n",
              "          const docLink = document.createElement('div');\n",
              "          docLink.innerHTML = docLinkHtml;\n",
              "          element.appendChild(docLink);\n",
              "        }\n",
              "      </script>\n",
              "    </div>\n",
              "  </div>\n",
              "  "
            ]
          },
          "metadata": {},
          "execution_count": 81
        }
      ]
    },
    {
      "cell_type": "markdown",
      "source": [
        "selezione di una serie di righe (più metodi se possibile)"
      ],
      "metadata": {
        "id": "ugUyVMOY1Q5c"
      }
    },
    {
      "cell_type": "code",
      "source": [
        "df.head(10)"
      ],
      "metadata": {
        "id": "GP93uol2xi5R"
      },
      "execution_count": null,
      "outputs": []
    },
    {
      "cell_type": "code",
      "source": [
        "df[0:10]"
      ],
      "metadata": {
        "id": "-d8AY5koxqxh"
      },
      "execution_count": null,
      "outputs": []
    },
    {
      "cell_type": "code",
      "source": [
        "df.iloc[[23,29,45]]"
      ],
      "metadata": {
        "colab": {
          "base_uri": "https://localhost:8080/",
          "height": 143
        },
        "id": "bpLl7gWDxvFX",
        "outputId": "3a98c746-76a0-4d31-ded2-e55c40868c11"
      },
      "execution_count": null,
      "outputs": [
        {
          "output_type": "execute_result",
          "data": {
            "text/plain": [
              "                       forn  numero_dosi data_consegna   N1    N2  ISTAT  \\\n",
              "24                  Janssen            0    2021-03-01  ITF  ITF1     13   \n",
              "30  Vaxzevria (AstraZeneca)        14332    2021-03-10  ITF  ITF1     13   \n",
              "46  Vaxzevria (AstraZeneca)           72    2021-04-01  ITF  ITF1     13   \n",
              "\n",
              "        reg  \n",
              "24  Abruzzo  \n",
              "30  Abruzzo  \n",
              "46  Abruzzo  "
            ],
            "text/html": [
              "\n",
              "  <div id=\"df-329f549d-f0a6-4b6f-85c2-1830bc587343\">\n",
              "    <div class=\"colab-df-container\">\n",
              "      <div>\n",
              "<style scoped>\n",
              "    .dataframe tbody tr th:only-of-type {\n",
              "        vertical-align: middle;\n",
              "    }\n",
              "\n",
              "    .dataframe tbody tr th {\n",
              "        vertical-align: top;\n",
              "    }\n",
              "\n",
              "    .dataframe thead th {\n",
              "        text-align: right;\n",
              "    }\n",
              "</style>\n",
              "<table border=\"1\" class=\"dataframe\">\n",
              "  <thead>\n",
              "    <tr style=\"text-align: right;\">\n",
              "      <th></th>\n",
              "      <th>forn</th>\n",
              "      <th>numero_dosi</th>\n",
              "      <th>data_consegna</th>\n",
              "      <th>N1</th>\n",
              "      <th>N2</th>\n",
              "      <th>ISTAT</th>\n",
              "      <th>reg</th>\n",
              "    </tr>\n",
              "  </thead>\n",
              "  <tbody>\n",
              "    <tr>\n",
              "      <th>24</th>\n",
              "      <td>Janssen</td>\n",
              "      <td>0</td>\n",
              "      <td>2021-03-01</td>\n",
              "      <td>ITF</td>\n",
              "      <td>ITF1</td>\n",
              "      <td>13</td>\n",
              "      <td>Abruzzo</td>\n",
              "    </tr>\n",
              "    <tr>\n",
              "      <th>30</th>\n",
              "      <td>Vaxzevria (AstraZeneca)</td>\n",
              "      <td>14332</td>\n",
              "      <td>2021-03-10</td>\n",
              "      <td>ITF</td>\n",
              "      <td>ITF1</td>\n",
              "      <td>13</td>\n",
              "      <td>Abruzzo</td>\n",
              "    </tr>\n",
              "    <tr>\n",
              "      <th>46</th>\n",
              "      <td>Vaxzevria (AstraZeneca)</td>\n",
              "      <td>72</td>\n",
              "      <td>2021-04-01</td>\n",
              "      <td>ITF</td>\n",
              "      <td>ITF1</td>\n",
              "      <td>13</td>\n",
              "      <td>Abruzzo</td>\n",
              "    </tr>\n",
              "  </tbody>\n",
              "</table>\n",
              "</div>\n",
              "      <button class=\"colab-df-convert\" onclick=\"convertToInteractive('df-329f549d-f0a6-4b6f-85c2-1830bc587343')\"\n",
              "              title=\"Convert this dataframe to an interactive table.\"\n",
              "              style=\"display:none;\">\n",
              "        \n",
              "  <svg xmlns=\"http://www.w3.org/2000/svg\" height=\"24px\"viewBox=\"0 0 24 24\"\n",
              "       width=\"24px\">\n",
              "    <path d=\"M0 0h24v24H0V0z\" fill=\"none\"/>\n",
              "    <path d=\"M18.56 5.44l.94 2.06.94-2.06 2.06-.94-2.06-.94-.94-2.06-.94 2.06-2.06.94zm-11 1L8.5 8.5l.94-2.06 2.06-.94-2.06-.94L8.5 2.5l-.94 2.06-2.06.94zm10 10l.94 2.06.94-2.06 2.06-.94-2.06-.94-.94-2.06-.94 2.06-2.06.94z\"/><path d=\"M17.41 7.96l-1.37-1.37c-.4-.4-.92-.59-1.43-.59-.52 0-1.04.2-1.43.59L10.3 9.45l-7.72 7.72c-.78.78-.78 2.05 0 2.83L4 21.41c.39.39.9.59 1.41.59.51 0 1.02-.2 1.41-.59l7.78-7.78 2.81-2.81c.8-.78.8-2.07 0-2.86zM5.41 20L4 18.59l7.72-7.72 1.47 1.35L5.41 20z\"/>\n",
              "  </svg>\n",
              "      </button>\n",
              "      \n",
              "  <style>\n",
              "    .colab-df-container {\n",
              "      display:flex;\n",
              "      flex-wrap:wrap;\n",
              "      gap: 12px;\n",
              "    }\n",
              "\n",
              "    .colab-df-convert {\n",
              "      background-color: #E8F0FE;\n",
              "      border: none;\n",
              "      border-radius: 50%;\n",
              "      cursor: pointer;\n",
              "      display: none;\n",
              "      fill: #1967D2;\n",
              "      height: 32px;\n",
              "      padding: 0 0 0 0;\n",
              "      width: 32px;\n",
              "    }\n",
              "\n",
              "    .colab-df-convert:hover {\n",
              "      background-color: #E2EBFA;\n",
              "      box-shadow: 0px 1px 2px rgba(60, 64, 67, 0.3), 0px 1px 3px 1px rgba(60, 64, 67, 0.15);\n",
              "      fill: #174EA6;\n",
              "    }\n",
              "\n",
              "    [theme=dark] .colab-df-convert {\n",
              "      background-color: #3B4455;\n",
              "      fill: #D2E3FC;\n",
              "    }\n",
              "\n",
              "    [theme=dark] .colab-df-convert:hover {\n",
              "      background-color: #434B5C;\n",
              "      box-shadow: 0px 1px 3px 1px rgba(0, 0, 0, 0.15);\n",
              "      filter: drop-shadow(0px 1px 2px rgba(0, 0, 0, 0.3));\n",
              "      fill: #FFFFFF;\n",
              "    }\n",
              "  </style>\n",
              "\n",
              "      <script>\n",
              "        const buttonEl =\n",
              "          document.querySelector('#df-329f549d-f0a6-4b6f-85c2-1830bc587343 button.colab-df-convert');\n",
              "        buttonEl.style.display =\n",
              "          google.colab.kernel.accessAllowed ? 'block' : 'none';\n",
              "\n",
              "        async function convertToInteractive(key) {\n",
              "          const element = document.querySelector('#df-329f549d-f0a6-4b6f-85c2-1830bc587343');\n",
              "          const dataTable =\n",
              "            await google.colab.kernel.invokeFunction('convertToInteractive',\n",
              "                                                     [key], {});\n",
              "          if (!dataTable) return;\n",
              "\n",
              "          const docLinkHtml = 'Like what you see? Visit the ' +\n",
              "            '<a target=\"_blank\" href=https://colab.research.google.com/notebooks/data_table.ipynb>data table notebook</a>'\n",
              "            + ' to learn more about interactive tables.';\n",
              "          element.innerHTML = '';\n",
              "          dataTable['output_type'] = 'display_data';\n",
              "          await google.colab.output.renderOutput(dataTable, element);\n",
              "          const docLink = document.createElement('div');\n",
              "          docLink.innerHTML = docLinkHtml;\n",
              "          element.appendChild(docLink);\n",
              "        }\n",
              "      </script>\n",
              "    </div>\n",
              "  </div>\n",
              "  "
            ]
          },
          "metadata": {},
          "execution_count": 89
        }
      ]
    },
    {
      "cell_type": "code",
      "source": [
        "df.loc[10:20]"
      ],
      "metadata": {
        "id": "pOZSdNPh6xoq"
      },
      "execution_count": null,
      "outputs": []
    },
    {
      "cell_type": "markdown",
      "source": [
        "selezione di una serie di colonne (più metodi se possibile)"
      ],
      "metadata": {
        "id": "ohNqeoCa1Uaj"
      }
    },
    {
      "cell_type": "code",
      "source": [
        "df.iloc[[1,2,3]][[\"forn\",\"numero_dosi\"]]"
      ],
      "metadata": {
        "colab": {
          "base_uri": "https://localhost:8080/",
          "height": 311
        },
        "id": "yjM20vspyKaP",
        "outputId": "12d6bcee-00ef-45ca-e336-e3e8dff6cc7c"
      },
      "execution_count": null,
      "outputs": [
        {
          "output_type": "error",
          "ename": "KeyError",
          "evalue": "ignored",
          "traceback": [
            "\u001b[0;31m---------------------------------------------------------------------------\u001b[0m",
            "\u001b[0;31mKeyError\u001b[0m                                  Traceback (most recent call last)",
            "\u001b[0;32m<ipython-input-172-cc397d1b6012>\u001b[0m in \u001b[0;36m<module>\u001b[0;34m\u001b[0m\n\u001b[0;32m----> 1\u001b[0;31m \u001b[0mdf\u001b[0m\u001b[0;34m[\u001b[0m\u001b[0;34m[\u001b[0m\u001b[0;36m1\u001b[0m\u001b[0;34m,\u001b[0m\u001b[0;36m2\u001b[0m\u001b[0;34m,\u001b[0m\u001b[0;36m3\u001b[0m\u001b[0;34m]\u001b[0m\u001b[0;34m]\u001b[0m\u001b[0;34m[\u001b[0m\u001b[0;34m\"forn\"\u001b[0m\u001b[0;34m,\u001b[0m\u001b[0;34m\"numero_dosi\"\u001b[0m\u001b[0;34m]\u001b[0m\u001b[0;34m\u001b[0m\u001b[0;34m\u001b[0m\u001b[0m\n\u001b[0m",
            "\u001b[0;32m/usr/local/lib/python3.8/dist-packages/pandas/core/frame.py\u001b[0m in \u001b[0;36m__getitem__\u001b[0;34m(self, key)\u001b[0m\n\u001b[1;32m   3462\u001b[0m             \u001b[0;32mif\u001b[0m \u001b[0mis_iterator\u001b[0m\u001b[0;34m(\u001b[0m\u001b[0mkey\u001b[0m\u001b[0;34m)\u001b[0m\u001b[0;34m:\u001b[0m\u001b[0;34m\u001b[0m\u001b[0;34m\u001b[0m\u001b[0m\n\u001b[1;32m   3463\u001b[0m                 \u001b[0mkey\u001b[0m \u001b[0;34m=\u001b[0m \u001b[0mlist\u001b[0m\u001b[0;34m(\u001b[0m\u001b[0mkey\u001b[0m\u001b[0;34m)\u001b[0m\u001b[0;34m\u001b[0m\u001b[0;34m\u001b[0m\u001b[0m\n\u001b[0;32m-> 3464\u001b[0;31m             \u001b[0mindexer\u001b[0m \u001b[0;34m=\u001b[0m \u001b[0mself\u001b[0m\u001b[0;34m.\u001b[0m\u001b[0mloc\u001b[0m\u001b[0;34m.\u001b[0m\u001b[0m_get_listlike_indexer\u001b[0m\u001b[0;34m(\u001b[0m\u001b[0mkey\u001b[0m\u001b[0;34m,\u001b[0m \u001b[0maxis\u001b[0m\u001b[0;34m=\u001b[0m\u001b[0;36m1\u001b[0m\u001b[0;34m)\u001b[0m\u001b[0;34m[\u001b[0m\u001b[0;36m1\u001b[0m\u001b[0;34m]\u001b[0m\u001b[0;34m\u001b[0m\u001b[0;34m\u001b[0m\u001b[0m\n\u001b[0m\u001b[1;32m   3465\u001b[0m \u001b[0;34m\u001b[0m\u001b[0m\n\u001b[1;32m   3466\u001b[0m         \u001b[0;31m# take() does not accept boolean indexers\u001b[0m\u001b[0;34m\u001b[0m\u001b[0;34m\u001b[0m\u001b[0;34m\u001b[0m\u001b[0m\n",
            "\u001b[0;32m/usr/local/lib/python3.8/dist-packages/pandas/core/indexing.py\u001b[0m in \u001b[0;36m_get_listlike_indexer\u001b[0;34m(self, key, axis)\u001b[0m\n\u001b[1;32m   1312\u001b[0m             \u001b[0mkeyarr\u001b[0m\u001b[0;34m,\u001b[0m \u001b[0mindexer\u001b[0m\u001b[0;34m,\u001b[0m \u001b[0mnew_indexer\u001b[0m \u001b[0;34m=\u001b[0m \u001b[0max\u001b[0m\u001b[0;34m.\u001b[0m\u001b[0m_reindex_non_unique\u001b[0m\u001b[0;34m(\u001b[0m\u001b[0mkeyarr\u001b[0m\u001b[0;34m)\u001b[0m\u001b[0;34m\u001b[0m\u001b[0;34m\u001b[0m\u001b[0m\n\u001b[1;32m   1313\u001b[0m \u001b[0;34m\u001b[0m\u001b[0m\n\u001b[0;32m-> 1314\u001b[0;31m         \u001b[0mself\u001b[0m\u001b[0;34m.\u001b[0m\u001b[0m_validate_read_indexer\u001b[0m\u001b[0;34m(\u001b[0m\u001b[0mkeyarr\u001b[0m\u001b[0;34m,\u001b[0m \u001b[0mindexer\u001b[0m\u001b[0;34m,\u001b[0m \u001b[0maxis\u001b[0m\u001b[0;34m)\u001b[0m\u001b[0;34m\u001b[0m\u001b[0;34m\u001b[0m\u001b[0m\n\u001b[0m\u001b[1;32m   1315\u001b[0m \u001b[0;34m\u001b[0m\u001b[0m\n\u001b[1;32m   1316\u001b[0m         if needs_i8_conversion(ax.dtype) or isinstance(\n",
            "\u001b[0;32m/usr/local/lib/python3.8/dist-packages/pandas/core/indexing.py\u001b[0m in \u001b[0;36m_validate_read_indexer\u001b[0;34m(self, key, indexer, axis)\u001b[0m\n\u001b[1;32m   1372\u001b[0m                 \u001b[0;32mif\u001b[0m \u001b[0muse_interval_msg\u001b[0m\u001b[0;34m:\u001b[0m\u001b[0;34m\u001b[0m\u001b[0;34m\u001b[0m\u001b[0m\n\u001b[1;32m   1373\u001b[0m                     \u001b[0mkey\u001b[0m \u001b[0;34m=\u001b[0m \u001b[0mlist\u001b[0m\u001b[0;34m(\u001b[0m\u001b[0mkey\u001b[0m\u001b[0;34m)\u001b[0m\u001b[0;34m\u001b[0m\u001b[0;34m\u001b[0m\u001b[0m\n\u001b[0;32m-> 1374\u001b[0;31m                 \u001b[0;32mraise\u001b[0m \u001b[0mKeyError\u001b[0m\u001b[0;34m(\u001b[0m\u001b[0;34mf\"None of [{key}] are in the [{axis_name}]\"\u001b[0m\u001b[0;34m)\u001b[0m\u001b[0;34m\u001b[0m\u001b[0;34m\u001b[0m\u001b[0m\n\u001b[0m\u001b[1;32m   1375\u001b[0m \u001b[0;34m\u001b[0m\u001b[0m\n\u001b[1;32m   1376\u001b[0m             \u001b[0mnot_found\u001b[0m \u001b[0;34m=\u001b[0m \u001b[0mlist\u001b[0m\u001b[0;34m(\u001b[0m\u001b[0mensure_index\u001b[0m\u001b[0;34m(\u001b[0m\u001b[0mkey\u001b[0m\u001b[0;34m)\u001b[0m\u001b[0;34m[\u001b[0m\u001b[0mmissing_mask\u001b[0m\u001b[0;34m.\u001b[0m\u001b[0mnonzero\u001b[0m\u001b[0;34m(\u001b[0m\u001b[0;34m)\u001b[0m\u001b[0;34m[\u001b[0m\u001b[0;36m0\u001b[0m\u001b[0;34m]\u001b[0m\u001b[0;34m]\u001b[0m\u001b[0;34m.\u001b[0m\u001b[0munique\u001b[0m\u001b[0;34m(\u001b[0m\u001b[0;34m)\u001b[0m\u001b[0;34m)\u001b[0m\u001b[0;34m\u001b[0m\u001b[0;34m\u001b[0m\u001b[0m\n",
            "\u001b[0;31mKeyError\u001b[0m: \"None of [Int64Index([1, 2, 3], dtype='int64')] are in the [columns]\""
          ]
        }
      ]
    },
    {
      "cell_type": "code",
      "source": [
        "df.loc[:,\"forn\"]"
      ],
      "metadata": {
        "id": "3-38d3bbyodx"
      },
      "execution_count": null,
      "outputs": []
    },
    {
      "cell_type": "code",
      "source": [
        "df[:][[\"area\",\"forn\"]]"
      ],
      "metadata": {
        "id": "7kwW1-VXznbd"
      },
      "execution_count": null,
      "outputs": []
    },
    {
      "cell_type": "markdown",
      "source": [
        "ricerca di valori in una colonna (più metodi se possibile)"
      ],
      "metadata": {
        "id": "46Nm66A61V-D"
      }
    },
    {
      "cell_type": "code",
      "source": [
        "df[df.area==\"ABR\"]"
      ],
      "metadata": {
        "id": "Nd3MHLHVzuFp"
      },
      "execution_count": null,
      "outputs": []
    },
    {
      "cell_type": "markdown",
      "source": [
        "ricerca di più valori su una o più colonne"
      ],
      "metadata": {
        "id": "u_T1Nbyo2Pqo"
      }
    },
    {
      "cell_type": "code",
      "source": [
        "df[(df.area==\"ABR\")&(df.forn==\"Janssen\")]#& equivale a and"
      ],
      "metadata": {
        "id": "ORw9eSDqz9Q3"
      },
      "execution_count": null,
      "outputs": []
    },
    {
      "cell_type": "code",
      "source": [
        "df[(df.area==\"ABR\")|(df.forn==\"Janssen\")]#| equivale a or"
      ],
      "metadata": {
        "id": "lvYIk7O40Fld"
      },
      "execution_count": null,
      "outputs": []
    },
    {
      "cell_type": "markdown",
      "source": [
        "ricerca di sottotsringhe in una colonna"
      ],
      "metadata": {
        "id": "8jZ99Hlx15Kh"
      }
    },
    {
      "cell_type": "code",
      "source": [
        "df[df.reg.str.contains(\"Venezia\")]"
      ],
      "metadata": {
        "id": "WspRygmH0NLY"
      },
      "execution_count": null,
      "outputs": []
    },
    {
      "cell_type": "code",
      "source": [
        "df[df.reg.str.startswith(\"Venezia\")]"
      ],
      "metadata": {
        "id": "isbgi3xq1z5o"
      },
      "execution_count": null,
      "outputs": []
    },
    {
      "cell_type": "code",
      "source": [
        "df[df.reg.str.endswifth(\"Venezia\")]"
      ],
      "metadata": {
        "id": "4y5wJvsP10SY"
      },
      "execution_count": null,
      "outputs": []
    },
    {
      "cell_type": "markdown",
      "source": [
        "gestione delle date (da string a datetime e viceversa)"
      ],
      "metadata": {
        "id": "z2OQDO1P3L6f"
      }
    },
    {
      "cell_type": "code",
      "source": [
        "import datetime\n",
        "datas = pd.to_datetime(df.data_consegna, format=\"%Y-%m-%d\") # crea una serie contenente le date in forma di datetime\n",
        "datas"
      ],
      "metadata": {
        "colab": {
          "base_uri": "https://localhost:8080/"
        },
        "id": "LegD3R7G15Xs",
        "outputId": "55a3e1df-b5f8-497c-eb70-693011fecadf"
      },
      "execution_count": null,
      "outputs": [
        {
          "output_type": "execute_result",
          "data": {
            "text/plain": [
              "0      2020-12-27\n",
              "1      2020-12-30\n",
              "2      2021-01-05\n",
              "3      2021-01-07\n",
              "4      2021-01-11\n",
              "          ...    \n",
              "7580   2022-09-26\n",
              "7581   2022-10-20\n",
              "7582   2022-10-31\n",
              "7583   2022-11-15\n",
              "7584   2022-11-23\n",
              "Name: data_consegna, Length: 7585, dtype: datetime64[ns]"
            ]
          },
          "metadata": {},
          "execution_count": 142
        }
      ]
    },
    {
      "cell_type": "code",
      "source": [
        "datas=str(datas)\n",
        "print(type(datas))\n",
        "print(datas)"
      ],
      "metadata": {
        "colab": {
          "base_uri": "https://localhost:8080/"
        },
        "id": "6Dbdmzb93ZEQ",
        "outputId": "edc9d8ff-5902-47da-d02b-f1e43cd7403b"
      },
      "execution_count": null,
      "outputs": [
        {
          "output_type": "stream",
          "name": "stdout",
          "text": [
            "<class 'str'>\n",
            "0      2020-12-27\n",
            "1      2020-12-30\n",
            "2      2021-01-05\n",
            "3      2021-01-07\n",
            "4      2021-01-11\n",
            "          ...    \n",
            "7580   2022-09-26\n",
            "7581   2022-10-20\n",
            "7582   2022-10-31\n",
            "7583   2022-11-15\n",
            "7584   2022-11-23\n",
            "Name: data_consegna, Length: 7585, dtype: datetime64[ns]\n"
          ]
        }
      ]
    },
    {
      "cell_type": "markdown",
      "source": [
        "raggruppamenti e funzioni di aggregazione (count, min, max, sum, mean)"
      ],
      "metadata": {
        "id": "fr9SDRpW12eB"
      }
    },
    {
      "cell_type": "code",
      "source": [
        "df.numero_dosi.sum()"
      ],
      "metadata": {
        "colab": {
          "base_uri": "https://localhost:8080/"
        },
        "id": "CpWk9up63kgS",
        "outputId": "7456d444-70b5-4e97-f39e-45f277d0f204"
      },
      "execution_count": null,
      "outputs": [
        {
          "output_type": "execute_result",
          "data": {
            "text/plain": [
              "158558879"
            ]
          },
          "metadata": {},
          "execution_count": 148
        }
      ]
    },
    {
      "cell_type": "code",
      "source": [
        "df.numero_dosi.max()"
      ],
      "metadata": {
        "colab": {
          "base_uri": "https://localhost:8080/"
        },
        "id": "DjYkK_0d3rCa",
        "outputId": "04f84263-1ecf-4b7f-be8e-00ae90e21abb"
      },
      "execution_count": null,
      "outputs": [
        {
          "output_type": "execute_result",
          "data": {
            "text/plain": [
              "812160"
            ]
          },
          "metadata": {},
          "execution_count": 149
        }
      ]
    },
    {
      "cell_type": "code",
      "source": [
        "df.numero_dosi.min()"
      ],
      "metadata": {
        "colab": {
          "base_uri": "https://localhost:8080/"
        },
        "id": "rDg3QNNh3s_u",
        "outputId": "faae234b-c0ee-47cf-9303-18950199ed59"
      },
      "execution_count": null,
      "outputs": [
        {
          "output_type": "execute_result",
          "data": {
            "text/plain": [
              "-131000"
            ]
          },
          "metadata": {},
          "execution_count": 152
        }
      ]
    },
    {
      "cell_type": "code",
      "source": [
        "df.numero_dosi.mean()"
      ],
      "metadata": {
        "colab": {
          "base_uri": "https://localhost:8080/"
        },
        "id": "PBHDDR1I3vtB",
        "outputId": "a15da958-dbc6-41dc-b72d-52b310d8d8b1"
      },
      "execution_count": null,
      "outputs": [
        {
          "output_type": "execute_result",
          "data": {
            "text/plain": [
              "20904.268820039553"
            ]
          },
          "metadata": {},
          "execution_count": 153
        }
      ]
    },
    {
      "cell_type": "code",
      "source": [
        "df.numero_dosi.count()"
      ],
      "metadata": {
        "colab": {
          "base_uri": "https://localhost:8080/"
        },
        "id": "5AnyiNGr3xOC",
        "outputId": "8fd578aa-c612-448b-8a8b-a3b88171ddb6"
      },
      "execution_count": null,
      "outputs": [
        {
          "output_type": "execute_result",
          "data": {
            "text/plain": [
              "7585"
            ]
          },
          "metadata": {},
          "execution_count": 151
        }
      ]
    },
    {
      "cell_type": "markdown",
      "source": [
        "GROUPBY"
      ],
      "metadata": {
        "id": "Hfeb6xp25ycv"
      }
    },
    {
      "cell_type": "code",
      "source": [
        "df.groupby(\"area\")[[\"reg\"]].count()#groupby raggruppa tutti i valori uguali e con la funzione count ne conta il numero che poi viene visualizzato nelle altre colonne\n"
      ],
      "metadata": {
        "id": "_7XvH71n5z4n"
      },
      "execution_count": null,
      "outputs": []
    },
    {
      "cell_type": "code",
      "source": [
        "df.groupby(\"area\")[[\"reg\"]].count().reset_index()#reset_index() resetta l'indentazione delle colonne mettendo un indice come prima colonna"
      ],
      "metadata": {
        "colab": {
          "base_uri": "https://localhost:8080/",
          "height": 708
        },
        "id": "0CTxmZh56I6o",
        "outputId": "b16a54ec-d516-4a7b-fdc6-5357353258a2"
      },
      "execution_count": null,
      "outputs": [
        {
          "output_type": "execute_result",
          "data": {
            "text/plain": [
              "   area   reg\n",
              "0   ABR   208\n",
              "1   BAS   164\n",
              "2   CAL   240\n",
              "3   CAM   520\n",
              "4   EMR   300\n",
              "5   FVG   797\n",
              "6   LAZ  1388\n",
              "7   LIG   467\n",
              "8   LOM   362\n",
              "9   MAR   173\n",
              "10  MOL   160\n",
              "11  PAB   173\n",
              "12  PAT   151\n",
              "13  PIE   316\n",
              "14  PUG   536\n",
              "15  SAR   331\n",
              "16  SIC   317\n",
              "17  TOS   345\n",
              "18  UMB   208\n",
              "19  VDA   138\n",
              "20  VEN   291"
            ],
            "text/html": [
              "\n",
              "  <div id=\"df-abe0f00e-65c0-4d0e-9244-76dddc685d8c\">\n",
              "    <div class=\"colab-df-container\">\n",
              "      <div>\n",
              "<style scoped>\n",
              "    .dataframe tbody tr th:only-of-type {\n",
              "        vertical-align: middle;\n",
              "    }\n",
              "\n",
              "    .dataframe tbody tr th {\n",
              "        vertical-align: top;\n",
              "    }\n",
              "\n",
              "    .dataframe thead th {\n",
              "        text-align: right;\n",
              "    }\n",
              "</style>\n",
              "<table border=\"1\" class=\"dataframe\">\n",
              "  <thead>\n",
              "    <tr style=\"text-align: right;\">\n",
              "      <th></th>\n",
              "      <th>area</th>\n",
              "      <th>reg</th>\n",
              "    </tr>\n",
              "  </thead>\n",
              "  <tbody>\n",
              "    <tr>\n",
              "      <th>0</th>\n",
              "      <td>ABR</td>\n",
              "      <td>208</td>\n",
              "    </tr>\n",
              "    <tr>\n",
              "      <th>1</th>\n",
              "      <td>BAS</td>\n",
              "      <td>164</td>\n",
              "    </tr>\n",
              "    <tr>\n",
              "      <th>2</th>\n",
              "      <td>CAL</td>\n",
              "      <td>240</td>\n",
              "    </tr>\n",
              "    <tr>\n",
              "      <th>3</th>\n",
              "      <td>CAM</td>\n",
              "      <td>520</td>\n",
              "    </tr>\n",
              "    <tr>\n",
              "      <th>4</th>\n",
              "      <td>EMR</td>\n",
              "      <td>300</td>\n",
              "    </tr>\n",
              "    <tr>\n",
              "      <th>5</th>\n",
              "      <td>FVG</td>\n",
              "      <td>797</td>\n",
              "    </tr>\n",
              "    <tr>\n",
              "      <th>6</th>\n",
              "      <td>LAZ</td>\n",
              "      <td>1388</td>\n",
              "    </tr>\n",
              "    <tr>\n",
              "      <th>7</th>\n",
              "      <td>LIG</td>\n",
              "      <td>467</td>\n",
              "    </tr>\n",
              "    <tr>\n",
              "      <th>8</th>\n",
              "      <td>LOM</td>\n",
              "      <td>362</td>\n",
              "    </tr>\n",
              "    <tr>\n",
              "      <th>9</th>\n",
              "      <td>MAR</td>\n",
              "      <td>173</td>\n",
              "    </tr>\n",
              "    <tr>\n",
              "      <th>10</th>\n",
              "      <td>MOL</td>\n",
              "      <td>160</td>\n",
              "    </tr>\n",
              "    <tr>\n",
              "      <th>11</th>\n",
              "      <td>PAB</td>\n",
              "      <td>173</td>\n",
              "    </tr>\n",
              "    <tr>\n",
              "      <th>12</th>\n",
              "      <td>PAT</td>\n",
              "      <td>151</td>\n",
              "    </tr>\n",
              "    <tr>\n",
              "      <th>13</th>\n",
              "      <td>PIE</td>\n",
              "      <td>316</td>\n",
              "    </tr>\n",
              "    <tr>\n",
              "      <th>14</th>\n",
              "      <td>PUG</td>\n",
              "      <td>536</td>\n",
              "    </tr>\n",
              "    <tr>\n",
              "      <th>15</th>\n",
              "      <td>SAR</td>\n",
              "      <td>331</td>\n",
              "    </tr>\n",
              "    <tr>\n",
              "      <th>16</th>\n",
              "      <td>SIC</td>\n",
              "      <td>317</td>\n",
              "    </tr>\n",
              "    <tr>\n",
              "      <th>17</th>\n",
              "      <td>TOS</td>\n",
              "      <td>345</td>\n",
              "    </tr>\n",
              "    <tr>\n",
              "      <th>18</th>\n",
              "      <td>UMB</td>\n",
              "      <td>208</td>\n",
              "    </tr>\n",
              "    <tr>\n",
              "      <th>19</th>\n",
              "      <td>VDA</td>\n",
              "      <td>138</td>\n",
              "    </tr>\n",
              "    <tr>\n",
              "      <th>20</th>\n",
              "      <td>VEN</td>\n",
              "      <td>291</td>\n",
              "    </tr>\n",
              "  </tbody>\n",
              "</table>\n",
              "</div>\n",
              "      <button class=\"colab-df-convert\" onclick=\"convertToInteractive('df-abe0f00e-65c0-4d0e-9244-76dddc685d8c')\"\n",
              "              title=\"Convert this dataframe to an interactive table.\"\n",
              "              style=\"display:none;\">\n",
              "        \n",
              "  <svg xmlns=\"http://www.w3.org/2000/svg\" height=\"24px\"viewBox=\"0 0 24 24\"\n",
              "       width=\"24px\">\n",
              "    <path d=\"M0 0h24v24H0V0z\" fill=\"none\"/>\n",
              "    <path d=\"M18.56 5.44l.94 2.06.94-2.06 2.06-.94-2.06-.94-.94-2.06-.94 2.06-2.06.94zm-11 1L8.5 8.5l.94-2.06 2.06-.94-2.06-.94L8.5 2.5l-.94 2.06-2.06.94zm10 10l.94 2.06.94-2.06 2.06-.94-2.06-.94-.94-2.06-.94 2.06-2.06.94z\"/><path d=\"M17.41 7.96l-1.37-1.37c-.4-.4-.92-.59-1.43-.59-.52 0-1.04.2-1.43.59L10.3 9.45l-7.72 7.72c-.78.78-.78 2.05 0 2.83L4 21.41c.39.39.9.59 1.41.59.51 0 1.02-.2 1.41-.59l7.78-7.78 2.81-2.81c.8-.78.8-2.07 0-2.86zM5.41 20L4 18.59l7.72-7.72 1.47 1.35L5.41 20z\"/>\n",
              "  </svg>\n",
              "      </button>\n",
              "      \n",
              "  <style>\n",
              "    .colab-df-container {\n",
              "      display:flex;\n",
              "      flex-wrap:wrap;\n",
              "      gap: 12px;\n",
              "    }\n",
              "\n",
              "    .colab-df-convert {\n",
              "      background-color: #E8F0FE;\n",
              "      border: none;\n",
              "      border-radius: 50%;\n",
              "      cursor: pointer;\n",
              "      display: none;\n",
              "      fill: #1967D2;\n",
              "      height: 32px;\n",
              "      padding: 0 0 0 0;\n",
              "      width: 32px;\n",
              "    }\n",
              "\n",
              "    .colab-df-convert:hover {\n",
              "      background-color: #E2EBFA;\n",
              "      box-shadow: 0px 1px 2px rgba(60, 64, 67, 0.3), 0px 1px 3px 1px rgba(60, 64, 67, 0.15);\n",
              "      fill: #174EA6;\n",
              "    }\n",
              "\n",
              "    [theme=dark] .colab-df-convert {\n",
              "      background-color: #3B4455;\n",
              "      fill: #D2E3FC;\n",
              "    }\n",
              "\n",
              "    [theme=dark] .colab-df-convert:hover {\n",
              "      background-color: #434B5C;\n",
              "      box-shadow: 0px 1px 3px 1px rgba(0, 0, 0, 0.15);\n",
              "      filter: drop-shadow(0px 1px 2px rgba(0, 0, 0, 0.3));\n",
              "      fill: #FFFFFF;\n",
              "    }\n",
              "  </style>\n",
              "\n",
              "      <script>\n",
              "        const buttonEl =\n",
              "          document.querySelector('#df-abe0f00e-65c0-4d0e-9244-76dddc685d8c button.colab-df-convert');\n",
              "        buttonEl.style.display =\n",
              "          google.colab.kernel.accessAllowed ? 'block' : 'none';\n",
              "\n",
              "        async function convertToInteractive(key) {\n",
              "          const element = document.querySelector('#df-abe0f00e-65c0-4d0e-9244-76dddc685d8c');\n",
              "          const dataTable =\n",
              "            await google.colab.kernel.invokeFunction('convertToInteractive',\n",
              "                                                     [key], {});\n",
              "          if (!dataTable) return;\n",
              "\n",
              "          const docLinkHtml = 'Like what you see? Visit the ' +\n",
              "            '<a target=\"_blank\" href=https://colab.research.google.com/notebooks/data_table.ipynb>data table notebook</a>'\n",
              "            + ' to learn more about interactive tables.';\n",
              "          element.innerHTML = '';\n",
              "          dataTable['output_type'] = 'display_data';\n",
              "          await google.colab.output.renderOutput(dataTable, element);\n",
              "          const docLink = document.createElement('div');\n",
              "          docLink.innerHTML = docLinkHtml;\n",
              "          element.appendChild(docLink);\n",
              "        }\n",
              "      </script>\n",
              "    </div>\n",
              "  </div>\n",
              "  "
            ]
          },
          "metadata": {},
          "execution_count": 169
        }
      ]
    },
    {
      "cell_type": "markdown",
      "source": [
        "#Matplotlib"
      ],
      "metadata": {
        "id": "-wlEbOmI2MmB"
      }
    },
    {
      "cell_type": "markdown",
      "source": [
        "grafico a barre orizzontali"
      ],
      "metadata": {
        "id": "wFT8UarA2YY5"
      }
    },
    {
      "cell_type": "code",
      "source": [
        "import matplotlib.pyplot as plt\n",
        "fig, ax = plt.subplots(figsize=(10,8))\n",
        "ax.barh(df[\"area\"],df[\"numero_dosi\"])"
      ],
      "metadata": {
        "colab": {
          "base_uri": "https://localhost:8080/",
          "height": 500
        },
        "id": "7O4ad5JI3_7f",
        "outputId": "0e4b03fb-bffa-4b8c-dda3-6499d1862367"
      },
      "execution_count": null,
      "outputs": [
        {
          "output_type": "execute_result",
          "data": {
            "text/plain": [
              "<BarContainer object of 7585 artists>"
            ]
          },
          "metadata": {},
          "execution_count": 157
        },
        {
          "output_type": "display_data",
          "data": {
            "text/plain": [
              "<Figure size 720x576 with 1 Axes>"
            ],
            "image/png": "[encoded data removed]"
          },
          "metadata": {
            "needs_background": "light"
          }
        }
      ]
    },
    {
      "cell_type": "markdown",
      "source": [
        "grafico a barre verticali"
      ],
      "metadata": {
        "id": "o-41bPuf2dkZ"
      }
    },
    {
      "cell_type": "code",
      "source": [
        "import matplotlib.pyplot as plt\n",
        "fig, ax = plt.subplots(figsize=(10,8))\n",
        "ax.bar(df[\"area\"],df[\"numero_dosi\"])"
      ],
      "metadata": {
        "id": "9IFZAG944acS"
      },
      "execution_count": null,
      "outputs": []
    },
    {
      "cell_type": "markdown",
      "source": [
        "grafico a torta"
      ],
      "metadata": {
        "id": "cRj0_X-F2fdB"
      }
    },
    {
      "cell_type": "code",
      "source": [
        "import matplotlib.pyplot as plt\n",
        "simone=[1,2,3]\n",
        "finessi=[\"marco\",\"giacomo\",\"gianluca\"]\n",
        "fig, ax = plt.subplots(figsize=(10,8))\n",
        "ax.pie(simone,labels=finessi, autopct='%1.1f%%')\n",
        "plt.show"
      ],
      "metadata": {
        "colab": {
          "base_uri": "https://localhost:8080/",
          "height": 483
        },
        "id": "iyjW6tAg4gPL",
        "outputId": "b1b3fd33-ffe5-4018-adac-1db2dc7d9737"
      },
      "execution_count": null,
      "outputs": [
        {
          "output_type": "execute_result",
          "data": {
            "text/plain": [
              "<function matplotlib.pyplot.show(*args, **kw)>"
            ]
          },
          "metadata": {},
          "execution_count": 162
        },
        {
          "output_type": "display_data",
          "data": {
            "text/plain": [
              "<Figure size 720x576 with 1 Axes>"
            ],
            "image/png": "[encoded data removed]"
          },
          "metadata": {}
        }
      ]
    },
    {
      "cell_type": "markdown",
      "source": [
        "altri tipi di grafici"
      ],
      "metadata": {
        "id": "bg83rUIs2hF4"
      }
    },
    {
      "cell_type": "code",
      "source": [
        "!pip install squarify"
      ],
      "metadata": {
        "colab": {
          "base_uri": "https://localhost:8080/"
        },
        "id": "pj2rSMoJ5jKr",
        "outputId": "59ed77f5-b87d-4935-a4fe-c6d203fd70ff"
      },
      "execution_count": null,
      "outputs": [
        {
          "output_type": "stream",
          "name": "stdout",
          "text": [
            "Looking in indexes: https://pypi.org/simple, https://us-python.pkg.dev/colab-wheels/public/simple/\n",
            "Collecting squarify\n",
            "  Downloading squarify-0.4.3-py3-none-any.whl (4.3 kB)\n",
            "Installing collected packages: squarify\n",
            "Successfully installed squarify-0.4.3\n"
          ]
        }
      ]
    },
    {
      "cell_type": "code",
      "source": [
        "import squarify\n",
        "squarify.plot(sizes=simone, label=finessi, alpha=.8)"
      ],
      "metadata": {
        "colab": {
          "base_uri": "https://localhost:8080/",
          "height": 286
        },
        "id": "9dazVATb5fVA",
        "outputId": "601afe5c-abee-44b0-deee-e2eb8376c268"
      },
      "execution_count": null,
      "outputs": [
        {
          "output_type": "execute_result",
          "data": {
            "text/plain": [
              "<matplotlib.axes._subplots.AxesSubplot at 0x7f3b5951d3d0>"
            ]
          },
          "metadata": {},
          "execution_count": 165
        },
        {
          "output_type": "display_data",
          "data": {
            "text/plain": [
              "<Figure size 432x288 with 1 Axes>"
            ],
            "image/png": "[encoded data removed]"
          },
          "metadata": {
            "needs_background": "light"
          }
        }
      ]
    }
  ]
}